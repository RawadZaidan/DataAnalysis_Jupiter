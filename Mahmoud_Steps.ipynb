{
 "cells": [
  {
   "cell_type": "code",
   "execution_count": 1,
   "metadata": {},
   "outputs": [],
   "source": [
    "import database_handler as dbh\n",
    "from lookups import InputTypes, ErrorHandling\n",
    "import pandas_handler"
   ]
  },
  {
   "cell_type": "code",
   "execution_count": 2,
   "metadata": {},
   "outputs": [],
   "source": [
    "db_session = dbh.create_connection()"
   ]
  },
  {
   "cell_type": "code",
   "execution_count": 3,
   "metadata": {},
   "outputs": [
    {
     "data": {
      "text/plain": [
       "['Dim Customer.csv',\n",
       " 'Dim Location.csv',\n",
       " 'Dim Product.csv',\n",
       " 'Dim SalesPerson.csv',\n",
       " 'Fact Purchase.csv']"
      ]
     },
     "execution_count": 3,
     "metadata": {},
     "output_type": "execute_result"
    }
   ],
   "source": [
    "files_csv = pandas_handler.get_csv_file_names_into_list(folder_path='table_files')\n",
    "files_csv"
   ]
  },
  {
   "cell_type": "code",
   "execution_count": 4,
   "metadata": {},
   "outputs": [
    {
     "data": {
      "text/plain": [
       "[['Dim_Customer',\n",
       "  'c:\\\\Users\\\\96171\\\\Desktop\\\\SE_Factory\\\\Week6\\\\PowerBI\\\\W5_ETL_Project_2\\\\Load_Into_PBI_Postgres\\\\table_files\\\\Dim Customer.csv'],\n",
       " ['Dim_Location',\n",
       "  'c:\\\\Users\\\\96171\\\\Desktop\\\\SE_Factory\\\\Week6\\\\PowerBI\\\\W5_ETL_Project_2\\\\Load_Into_PBI_Postgres\\\\table_files\\\\Dim Location.csv'],\n",
       " ['Dim_Product',\n",
       "  'c:\\\\Users\\\\96171\\\\Desktop\\\\SE_Factory\\\\Week6\\\\PowerBI\\\\W5_ETL_Project_2\\\\Load_Into_PBI_Postgres\\\\table_files\\\\Dim Product.csv'],\n",
       " ['Dim_SalesPerson',\n",
       "  'c:\\\\Users\\\\96171\\\\Desktop\\\\SE_Factory\\\\Week6\\\\PowerBI\\\\W5_ETL_Project_2\\\\Load_Into_PBI_Postgres\\\\table_files\\\\Dim SalesPerson.csv'],\n",
       " ['Fact_Purchase',\n",
       "  'c:\\\\Users\\\\96171\\\\Desktop\\\\SE_Factory\\\\Week6\\\\PowerBI\\\\W5_ETL_Project_2\\\\Load_Into_PBI_Postgres\\\\table_files\\\\Fact Purchase.csv']]"
      ]
     },
     "execution_count": 4,
     "metadata": {},
     "output_type": "execute_result"
    }
   ],
   "source": [
    "paths = pandas_handler.return_paths(list_of_paths=files_csv, subfolder_name='table_files')\n",
    "paths"
   ]
  },
  {
   "cell_type": "code",
   "execution_count": null,
   "metadata": {},
   "outputs": [],
   "source": [
    "def pandasreturn_paths_as_dict(list_of_paths= files_csv, subfolder_name='table_files')"
   ]
  },
  {
   "cell_type": "markdown",
   "metadata": {},
   "source": [
    "Change lists into dict_list"
   ]
  },
  {
   "cell_type": "code",
   "execution_count": null,
   "metadata": {},
   "outputs": [],
   "source": [
    "for table in paths:\n",
    "    file_path = table[1]\n",
    "    table_name = table[0]\n",
    "    df = dbh.return_data_as_df(file_executor= file_path, input_type='CSV', db_session= db_session)\n",
    "    q = dbh.return_create_statement_from_df(dataframe=df, schema_name=\"public\", table_name=table_name)\n",
    "    dbh.execute_query(db_session=db_session, query=q)\n",
    "    q = dbh.return_insert_into_sql_statement_from_df(dataframe=df, schema_name=\"public\", table_name=table_name)\n",
    "    for insert in q:\n",
    "        dbh.execute_query(db_session=db_session, query=insert)\n",
    "    print(table_name,\":Done\")"
   ]
  },
  {
   "cell_type": "code",
   "execution_count": null,
   "metadata": {},
   "outputs": [],
   "source": [
    "for file in paths:\n",
    "    table_name = pandas_handler.remove_spaces_from_string(file[0])\n",
    "    print(table_name)\n"
   ]
  },
  {
   "cell_type": "code",
   "execution_count": null,
   "metadata": {},
   "outputs": [],
   "source": [
    "for file in paths:\n",
    "    print(file[0])"
   ]
  }
 ],
 "metadata": {
  "kernelspec": {
   "display_name": "Python 3",
   "language": "python",
   "name": "python3"
  },
  "language_info": {
   "codemirror_mode": {
    "name": "ipython",
    "version": 3
   },
   "file_extension": ".py",
   "mimetype": "text/x-python",
   "name": "python",
   "nbconvert_exporter": "python",
   "pygments_lexer": "ipython3",
   "version": "3.11.3"
  },
  "orig_nbformat": 4
 },
 "nbformat": 4,
 "nbformat_minor": 2
}
