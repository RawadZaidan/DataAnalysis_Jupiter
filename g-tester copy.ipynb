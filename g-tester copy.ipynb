{
 "cells": [
  {
   "cell_type": "code",
   "execution_count": null,
   "metadata": {},
   "outputs": [],
   "source": [
    "import prehook\n",
    "\n",
    "prehook.execute_prehook()"
   ]
  },
  {
   "cell_type": "code",
   "execution_count": null,
   "metadata": {},
   "outputs": [],
   "source": [
    "import hook\n",
    "import prehook\n",
    "import database_handler\n",
    "import lookups\n",
    "import datetime\n",
    "\n",
    "db_session = database_handler.create_connection()\n",
    "# hook.create_etl_checkpoint(db_session)"
   ]
  },
  {
   "cell_type": "code",
   "execution_count": null,
   "metadata": {},
   "outputs": [],
   "source": [
    "hook.return_lookup_items_as_dict(lookups.IncrementalField)"
   ]
  },
  {
   "cell_type": "code",
   "execution_count": null,
   "metadata": {},
   "outputs": [],
   "source": [
    "import hook\n",
    "import prehook\n",
    "import database_handler\n",
    "import lookups\n",
    "import datetime\n",
    "\n",
    "db_session = database_handler.create_connection()\n",
    "etl_date = datetime.datetime(1900,1,1)\n",
    "#SourceName is schema name\n",
    "source_name = lookups.SourceName.DVD_RENTAL.value\n",
    "#This will get you a list of tables inside this schema that are mentioned in SQLTablesToReplicate\n",
    "tables = prehook.return_tables_by_schema(source_name)\n",
    "#This will return \n",
    "incremental_date_dict = hook.return_lookup_items_as_dict(lookups.IncrementalField)\n",
    "# for table in tables:\n",
    "staging_query = f\"\"\"\n",
    "        SELECT * FROM {source_name}.{tables[0]} WHERE {incremental_date_dict.get(tables[0])} >= '{etl_date}'\n",
    "\"\"\" \n",
    "staging_df = database_handler.return_data_as_df(db_session= db_session, input_type= lookups.InputTypes.SQL, file_executor= staging_query)\n",
    "dst_table = f\"stg_{source_name}_{tables[0]}\"\n",
    "insert_stmt = database_handler.return_insert_into_sql_statement_from_df(staging_df, 'dw_reporting', dst_table)\n",
    "for insert in insert_stmt:\n",
    "        database_handler.execute_query(db_session=db_session, query= insert)"
   ]
  },
  {
   "cell_type": "code",
   "execution_count": 2,
   "metadata": {},
   "outputs": [],
   "source": [
    "import misc_handler\n",
    "df = misc_handler.return_match_df_from_web(93335,93336)"
   ]
  },
  {
   "cell_type": "code",
   "execution_count": 4,
   "metadata": {},
   "outputs": [
    {
     "name": "stdout",
     "output_type": "stream",
     "text": [
      "<class 'pandas.core.frame.DataFrame'>\n",
      "RangeIndex: 1 entries, 0 to 0\n",
      "Data columns (total 30 columns):\n",
      " #   Column                Non-Null Count  Dtype \n",
      "---  ------                --------------  ----- \n",
      " 0   match_id              1 non-null      int64 \n",
      " 1   date                  1 non-null      object\n",
      " 2   home_team             1 non-null      object\n",
      " 3   away_team             1 non-null      object\n",
      " 4   home_score            0 non-null      object\n",
      " 5   away_score            0 non-null      object\n",
      " 6   home_possession_%     0 non-null      object\n",
      " 7   away_possession_%     0 non-null      object\n",
      " 8   home_shots_on_target  0 non-null      object\n",
      " 9   away_shots_on_target  0 non-null      object\n",
      " 10  home_shots            0 non-null      object\n",
      " 11  away_shots            0 non-null      object\n",
      " 12  home_touches          0 non-null      object\n",
      " 13  away_touches          0 non-null      object\n",
      " 14  home_passes           0 non-null      object\n",
      " 15  away_passes           0 non-null      object\n",
      " 16  home_tackles          0 non-null      object\n",
      " 17  away_tackles          0 non-null      object\n",
      " 18  home_clearances       0 non-null      object\n",
      " 19  away_clearances       0 non-null      object\n",
      " 20  home_corners          0 non-null      object\n",
      " 21  away_corners          0 non-null      object\n",
      " 22  home_offsides         0 non-null      object\n",
      " 23  away_offsides         0 non-null      object\n",
      " 24  home_yellow_cards     0 non-null      object\n",
      " 25  away_yellow_cards     0 non-null      object\n",
      " 26  home_red_cards        0 non-null      object\n",
      " 27  away_red_cards        0 non-null      object\n",
      " 28  home_fouls_conceded   0 non-null      object\n",
      " 29  away_fouls_conceded   0 non-null      object\n",
      "dtypes: int64(1), object(29)\n",
      "memory usage: 368.0+ bytes\n"
     ]
    }
   ],
   "source": [
    "df.info()"
   ]
  },
  {
   "cell_type": "code",
   "execution_count": 1,
   "metadata": {},
   "outputs": [
    {
     "ename": "WebDriverException",
     "evalue": "Message: unknown error: net::ERR_NAME_NOT_RESOLVED\n  (Session info: headless chrome=117.0.5938.62)\nStacktrace:\n\tGetHandleVerifier [0x00007FF6BF857892+54818]\n\t(No symbol) [0x00007FF6BF7C6AC2]\n\t(No symbol) [0x00007FF6BF67DA3B]\n\t(No symbol) [0x00007FF6BF679853]\n\t(No symbol) [0x00007FF6BF66CB9C]\n\t(No symbol) [0x00007FF6BF66DDF7]\n\t(No symbol) [0x00007FF6BF66CF95]\n\t(No symbol) [0x00007FF6BF66C00E]\n\t(No symbol) [0x00007FF6BF66BFB3]\n\t(No symbol) [0x00007FF6BF66A82E]\n\t(No symbol) [0x00007FF6BF66B123]\n\t(No symbol) [0x00007FF6BF67FE4F]\n\t(No symbol) [0x00007FF6BF6F7917]\n\t(No symbol) [0x00007FF6BF6DEAAA]\n\t(No symbol) [0x00007FF6BF6F75A2]\n\t(No symbol) [0x00007FF6BF6DE883]\n\t(No symbol) [0x00007FF6BF6B3691]\n\t(No symbol) [0x00007FF6BF6B48D4]\n\tGetHandleVerifier [0x00007FF6BFBBB992+3610402]\n\tGetHandleVerifier [0x00007FF6BFC11860+3962352]\n\tGetHandleVerifier [0x00007FF6BFC09D4F+3930847]\n\tGetHandleVerifier [0x00007FF6BF8F3646+693206]\n\t(No symbol) [0x00007FF6BF7D1628]\n\t(No symbol) [0x00007FF6BF7CD934]\n\t(No symbol) [0x00007FF6BF7CDA62]\n\t(No symbol) [0x00007FF6BF7BE113]\n\tBaseThreadInitThunk [0x00007FFE82837344+20]\n\tRtlUserThreadStart [0x00007FFE839A26B1+33]\n",
     "output_type": "error",
     "traceback": [
      "\u001b[1;31m---------------------------------------------------------------------------\u001b[0m",
      "\u001b[1;31mWebDriverException\u001b[0m                        Traceback (most recent call last)",
      "\u001b[1;32mc:\\Users\\lenovo\\Desktop\\SE_Factory\\Jupiter_project\\g-tester copy.ipynb Cell 6\u001b[0m line \u001b[0;36m2\n\u001b[0;32m      <a href='vscode-notebook-cell:/c%3A/Users/lenovo/Desktop/SE_Factory/Jupiter_project/g-tester%20copy.ipynb#X14sZmlsZQ%3D%3D?line=0'>1</a>\u001b[0m \u001b[39mfrom\u001b[39;00m \u001b[39mprehook\u001b[39;00m \u001b[39mimport\u001b[39;00m first_time_web_scraping\n\u001b[1;32m----> <a href='vscode-notebook-cell:/c%3A/Users/lenovo/Desktop/SE_Factory/Jupiter_project/g-tester%20copy.ipynb#X14sZmlsZQ%3D%3D?line=1'>2</a>\u001b[0m first_time_web_scraping()\n",
      "File \u001b[1;32mc:\\Users\\lenovo\\Desktop\\SE_Factory\\Jupiter_project\\prehook.py:16\u001b[0m, in \u001b[0;36mfirst_time_web_scraping\u001b[1;34m()\u001b[0m\n\u001b[0;32m     14\u001b[0m \u001b[39mdef\u001b[39;00m \u001b[39mfirst_time_web_scraping\u001b[39m():\n\u001b[0;32m     15\u001b[0m     db_session\u001b[39m=\u001b[39mcreate_connection()\n\u001b[1;32m---> 16\u001b[0m     df_web_stg\u001b[39m=\u001b[39mreturn_match_df_from_web(match_id\u001b[39m.\u001b[39;49mfirst_run_id_1\u001b[39m.\u001b[39;49mvalue,match_id\u001b[39m.\u001b[39;49mfirst_run_id_2\u001b[39m.\u001b[39;49mvalue)\n\u001b[0;32m     17\u001b[0m     create_statement\u001b[39m=\u001b[39mreturn_create_statement_from_df_stg(df_web_stg,DESTINATION_SCHEMA\u001b[39m.\u001b[39mDESTINATION_NAME\u001b[39m.\u001b[39mvalue,WEBSCRAPINGSTAGINGTABLE\u001b[39m.\u001b[39mSTGTABLENAME\u001b[39m.\u001b[39mvalue)\n\u001b[0;32m     18\u001b[0m     execute_query(db_session,create_statement)\n",
      "File \u001b[1;32mc:\\Users\\lenovo\\Desktop\\SE_Factory\\Jupiter_project\\misc_handler.py:47\u001b[0m, in \u001b[0;36mreturn_match_df_from_web\u001b[1;34m(first_id, last_id)\u001b[0m\n\u001b[0;32m     45\u001b[0m \u001b[39mfor\u001b[39;00m match_id \u001b[39min\u001b[39;00m \u001b[39mrange\u001b[39m(first_id,last_id):\n\u001b[0;32m     46\u001b[0m     url \u001b[39m=\u001b[39m \u001b[39mf\u001b[39m\u001b[39m'\u001b[39m\u001b[39mhttps://www.premierleague.com/match/\u001b[39m\u001b[39m{\u001b[39;00mmatch_id\u001b[39m}\u001b[39;00m\u001b[39m'\u001b[39m\n\u001b[1;32m---> 47\u001b[0m     driver\u001b[39m.\u001b[39;49mget(url)\n\u001b[0;32m     48\u001b[0m     date \u001b[39m=\u001b[39m WebDriverWait(driver, \u001b[39m20\u001b[39m)\u001b[39m.\u001b[39muntil(EC\u001b[39m.\u001b[39melement_to_be_clickable((By\u001b[39m.\u001b[39mXPATH, \u001b[39m'\u001b[39m\u001b[39m//*[@id=\u001b[39m\u001b[39m\"\u001b[39m\u001b[39mmainContent\u001b[39m\u001b[39m\"\u001b[39m\u001b[39m]/div/section[2]/div[2]/section/div/div[1]/div[1]\u001b[39m\u001b[39m'\u001b[39m)))\u001b[39m.\u001b[39mtext\n\u001b[0;32m     49\u001b[0m     date \u001b[39m=\u001b[39m datetime\u001b[39m.\u001b[39mstrptime(date, \u001b[39m'\u001b[39m\u001b[39m%a\u001b[39;00m\u001b[39m \u001b[39m\u001b[39m%d\u001b[39;00m\u001b[39m \u001b[39m\u001b[39m%\u001b[39m\u001b[39mb \u001b[39m\u001b[39m%\u001b[39m\u001b[39mY\u001b[39m\u001b[39m'\u001b[39m)\u001b[39m.\u001b[39mstrftime(\u001b[39m'\u001b[39m\u001b[39m%\u001b[39m\u001b[39mm/\u001b[39m\u001b[39m%d\u001b[39;00m\u001b[39m/\u001b[39m\u001b[39m%\u001b[39m\u001b[39mY\u001b[39m\u001b[39m'\u001b[39m)\n",
      "File \u001b[1;32mc:\\Users\\lenovo\\anaconda3\\envs\\se_pl_analysis_env\\lib\\site-packages\\selenium\\webdriver\\remote\\webdriver.py:353\u001b[0m, in \u001b[0;36mWebDriver.get\u001b[1;34m(self, url)\u001b[0m\n\u001b[0;32m    351\u001b[0m \u001b[39mdef\u001b[39;00m \u001b[39mget\u001b[39m(\u001b[39mself\u001b[39m, url: \u001b[39mstr\u001b[39m) \u001b[39m-\u001b[39m\u001b[39m>\u001b[39m \u001b[39mNone\u001b[39;00m:\n\u001b[0;32m    352\u001b[0m \u001b[39m    \u001b[39m\u001b[39m\"\"\"Loads a web page in the current browser session.\"\"\"\u001b[39;00m\n\u001b[1;32m--> 353\u001b[0m     \u001b[39mself\u001b[39;49m\u001b[39m.\u001b[39;49mexecute(Command\u001b[39m.\u001b[39;49mGET, {\u001b[39m\"\u001b[39;49m\u001b[39murl\u001b[39;49m\u001b[39m\"\u001b[39;49m: url})\n",
      "File \u001b[1;32mc:\\Users\\lenovo\\anaconda3\\envs\\se_pl_analysis_env\\lib\\site-packages\\selenium\\webdriver\\remote\\webdriver.py:344\u001b[0m, in \u001b[0;36mWebDriver.execute\u001b[1;34m(self, driver_command, params)\u001b[0m\n\u001b[0;32m    342\u001b[0m response \u001b[39m=\u001b[39m \u001b[39mself\u001b[39m\u001b[39m.\u001b[39mcommand_executor\u001b[39m.\u001b[39mexecute(driver_command, params)\n\u001b[0;32m    343\u001b[0m \u001b[39mif\u001b[39;00m response:\n\u001b[1;32m--> 344\u001b[0m     \u001b[39mself\u001b[39;49m\u001b[39m.\u001b[39;49merror_handler\u001b[39m.\u001b[39;49mcheck_response(response)\n\u001b[0;32m    345\u001b[0m     response[\u001b[39m\"\u001b[39m\u001b[39mvalue\u001b[39m\u001b[39m\"\u001b[39m] \u001b[39m=\u001b[39m \u001b[39mself\u001b[39m\u001b[39m.\u001b[39m_unwrap_value(response\u001b[39m.\u001b[39mget(\u001b[39m\"\u001b[39m\u001b[39mvalue\u001b[39m\u001b[39m\"\u001b[39m, \u001b[39mNone\u001b[39;00m))\n\u001b[0;32m    346\u001b[0m     \u001b[39mreturn\u001b[39;00m response\n",
      "File \u001b[1;32mc:\\Users\\lenovo\\anaconda3\\envs\\se_pl_analysis_env\\lib\\site-packages\\selenium\\webdriver\\remote\\errorhandler.py:229\u001b[0m, in \u001b[0;36mErrorHandler.check_response\u001b[1;34m(self, response)\u001b[0m\n\u001b[0;32m    227\u001b[0m         alert_text \u001b[39m=\u001b[39m value[\u001b[39m\"\u001b[39m\u001b[39malert\u001b[39m\u001b[39m\"\u001b[39m]\u001b[39m.\u001b[39mget(\u001b[39m\"\u001b[39m\u001b[39mtext\u001b[39m\u001b[39m\"\u001b[39m)\n\u001b[0;32m    228\u001b[0m     \u001b[39mraise\u001b[39;00m exception_class(message, screen, stacktrace, alert_text)  \u001b[39m# type: ignore[call-arg]  # mypy is not smart enough here\u001b[39;00m\n\u001b[1;32m--> 229\u001b[0m \u001b[39mraise\u001b[39;00m exception_class(message, screen, stacktrace)\n",
      "\u001b[1;31mWebDriverException\u001b[0m: Message: unknown error: net::ERR_NAME_NOT_RESOLVED\n  (Session info: headless chrome=117.0.5938.62)\nStacktrace:\n\tGetHandleVerifier [0x00007FF6BF857892+54818]\n\t(No symbol) [0x00007FF6BF7C6AC2]\n\t(No symbol) [0x00007FF6BF67DA3B]\n\t(No symbol) [0x00007FF6BF679853]\n\t(No symbol) [0x00007FF6BF66CB9C]\n\t(No symbol) [0x00007FF6BF66DDF7]\n\t(No symbol) [0x00007FF6BF66CF95]\n\t(No symbol) [0x00007FF6BF66C00E]\n\t(No symbol) [0x00007FF6BF66BFB3]\n\t(No symbol) [0x00007FF6BF66A82E]\n\t(No symbol) [0x00007FF6BF66B123]\n\t(No symbol) [0x00007FF6BF67FE4F]\n\t(No symbol) [0x00007FF6BF6F7917]\n\t(No symbol) [0x00007FF6BF6DEAAA]\n\t(No symbol) [0x00007FF6BF6F75A2]\n\t(No symbol) [0x00007FF6BF6DE883]\n\t(No symbol) [0x00007FF6BF6B3691]\n\t(No symbol) [0x00007FF6BF6B48D4]\n\tGetHandleVerifier [0x00007FF6BFBBB992+3610402]\n\tGetHandleVerifier [0x00007FF6BFC11860+3962352]\n\tGetHandleVerifier [0x00007FF6BFC09D4F+3930847]\n\tGetHandleVerifier [0x00007FF6BF8F3646+693206]\n\t(No symbol) [0x00007FF6BF7D1628]\n\t(No symbol) [0x00007FF6BF7CD934]\n\t(No symbol) [0x00007FF6BF7CDA62]\n\t(No symbol) [0x00007FF6BF7BE113]\n\tBaseThreadInitThunk [0x00007FFE82837344+20]\n\tRtlUserThreadStart [0x00007FFE839A26B1+33]\n"
     ]
    }
   ],
   "source": [
    "from prehook import first_time_web_scraping\n",
    "first_time_web_scraping()"
   ]
  }
 ],
 "metadata": {
  "kernelspec": {
   "display_name": "Python 3",
   "language": "python",
   "name": "python3"
  },
  "language_info": {
   "codemirror_mode": {
    "name": "ipython",
    "version": 3
   },
   "file_extension": ".py",
   "mimetype": "text/x-python",
   "name": "python",
   "nbconvert_exporter": "python",
   "pygments_lexer": "ipython3",
   "version": "3.10.9"
  },
  "orig_nbformat": 4
 },
 "nbformat": 4,
 "nbformat_minor": 2
}
