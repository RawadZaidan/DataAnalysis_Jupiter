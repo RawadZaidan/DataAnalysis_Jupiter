{
 "cells": [
  {
   "cell_type": "code",
   "execution_count": null,
   "metadata": {},
   "outputs": [],
   "source": [
    "import prehook\n",
    "\n",
    "prehook.execute_prehook()"
   ]
  },
  {
   "cell_type": "code",
   "execution_count": null,
   "metadata": {},
   "outputs": [],
   "source": [
    "import hook\n",
    "import prehook\n",
    "import database_handler\n",
    "import lookups\n",
    "import datetime\n",
    "\n",
    "db_session = database_handler.create_connection()\n",
    "# hook.create_etl_checkpoint(db_session)"
   ]
  },
  {
   "cell_type": "code",
   "execution_count": null,
   "metadata": {},
   "outputs": [],
   "source": [
    "hook.return_lookup_items_as_dict(lookups.IncrementalField)"
   ]
  },
  {
   "cell_type": "code",
   "execution_count": null,
   "metadata": {},
   "outputs": [],
   "source": [
    "import hook\n",
    "import prehook\n",
    "import database_handler\n",
    "import lookups\n",
    "import datetime\n",
    "\n",
    "db_session = database_handler.create_connection()\n",
    "etl_date = datetime.datetime(1900,1,1)\n",
    "#SourceName is schema name\n",
    "source_name = lookups.SourceName.DVD_RENTAL.value\n",
    "#This will get you a list of tables inside this schema that are mentioned in SQLTablesToReplicate\n",
    "tables = prehook.return_tables_by_schema(source_name)\n",
    "#This will return \n",
    "incremental_date_dict = hook.return_lookup_items_as_dict(lookups.IncrementalField)\n",
    "# for table in tables:\n",
    "staging_query = f\"\"\"\n",
    "        SELECT * FROM {source_name}.{tables[0]} WHERE {incremental_date_dict.get(tables[0])} >= '{etl_date}'\n",
    "\"\"\" \n",
    "staging_df = database_handler.return_data_as_df(db_session= db_session, input_type= lookups.InputTypes.SQL, file_executor= staging_query)\n",
    "dst_table = f\"stg_{source_name}_{tables[0]}\"\n",
    "insert_stmt = database_handler.return_insert_into_sql_statement_from_df(staging_df, 'dw_reporting', dst_table)\n",
    "for insert in insert_stmt:\n",
    "        database_handler.execute_query(db_session=db_session, query= insert)"
   ]
  },
  {
   "cell_type": "code",
   "execution_count": 1,
   "metadata": {},
   "outputs": [],
   "source": [
    "import misc_handler\n"
   ]
  },
  {
   "cell_type": "code",
   "execution_count": 2,
   "metadata": {},
   "outputs": [
    {
     "ename": "TimeoutException",
     "evalue": "Message: \nStacktrace:\n\tGetHandleVerifier [0x00007FF6BF857892+54818]\n\t(No symbol) [0x00007FF6BF7C6AC2]\n\t(No symbol) [0x00007FF6BF67DA3B]\n\t(No symbol) [0x00007FF6BF6BE4FC]\n\t(No symbol) [0x00007FF6BF6BE67C]\n\t(No symbol) [0x00007FF6BF6F9627]\n\t(No symbol) [0x00007FF6BF6DEAEF]\n\t(No symbol) [0x00007FF6BF6F75A2]\n\t(No symbol) [0x00007FF6BF6DE883]\n\t(No symbol) [0x00007FF6BF6B3691]\n\t(No symbol) [0x00007FF6BF6B48D4]\n\tGetHandleVerifier [0x00007FF6BFBBB992+3610402]\n\tGetHandleVerifier [0x00007FF6BFC11860+3962352]\n\tGetHandleVerifier [0x00007FF6BFC09D4F+3930847]\n\tGetHandleVerifier [0x00007FF6BF8F3646+693206]\n\t(No symbol) [0x00007FF6BF7D1628]\n\t(No symbol) [0x00007FF6BF7CD934]\n\t(No symbol) [0x00007FF6BF7CDA62]\n\t(No symbol) [0x00007FF6BF7BE113]\n\tBaseThreadInitThunk [0x00007FFE82837344+20]\n\tRtlUserThreadStart [0x00007FFE839A26B1+33]\n",
     "output_type": "error",
     "traceback": [
      "\u001b[1;31m---------------------------------------------------------------------------\u001b[0m",
      "\u001b[1;31mTimeoutException\u001b[0m                          Traceback (most recent call last)",
      "\u001b[1;32mc:\\Users\\lenovo\\Desktop\\SE_Factory\\Jupiter_project\\g-tester copy.ipynb Cell 6\u001b[0m line \u001b[0;36m1\n\u001b[1;32m----> <a href='vscode-notebook-cell:/c%3A/Users/lenovo/Desktop/SE_Factory/Jupiter_project/g-tester%20copy.ipynb#X12sZmlsZQ%3D%3D?line=0'>1</a>\u001b[0m df \u001b[39m=\u001b[39m misc_handler\u001b[39m.\u001b[39;49mreturn_match_df_from_web(\u001b[39m94912\u001b[39;49m,\u001b[39m94913\u001b[39;49m)\n",
      "File \u001b[1;32mc:\\Users\\lenovo\\Desktop\\SE_Factory\\Jupiter_project\\misc_handler.py:48\u001b[0m, in \u001b[0;36mreturn_match_df_from_web\u001b[1;34m(first_id, last_id)\u001b[0m\n\u001b[0;32m     46\u001b[0m url \u001b[39m=\u001b[39m \u001b[39mf\u001b[39m\u001b[39m'\u001b[39m\u001b[39mhttps://www.premierleague.com/match/\u001b[39m\u001b[39m{\u001b[39;00mmatch_id\u001b[39m}\u001b[39;00m\u001b[39m'\u001b[39m\n\u001b[0;32m     47\u001b[0m driver\u001b[39m.\u001b[39mget(url)\n\u001b[1;32m---> 48\u001b[0m date \u001b[39m=\u001b[39m WebDriverWait(driver, \u001b[39m30\u001b[39;49m)\u001b[39m.\u001b[39;49muntil(EC\u001b[39m.\u001b[39;49melement_to_be_clickable((By\u001b[39m.\u001b[39;49mXPATH, \u001b[39m'\u001b[39;49m\u001b[39m//*[@id=\u001b[39;49m\u001b[39m\"\u001b[39;49m\u001b[39mmainContent\u001b[39;49m\u001b[39m\"\u001b[39;49m\u001b[39m]/div/section[2]/div[2]/section/div/div[1]/div[1]\u001b[39;49m\u001b[39m'\u001b[39;49m)))\u001b[39m.\u001b[39mtext\n\u001b[0;32m     49\u001b[0m date \u001b[39m=\u001b[39m datetime\u001b[39m.\u001b[39mstrptime(date, \u001b[39m'\u001b[39m\u001b[39m%a\u001b[39;00m\u001b[39m \u001b[39m\u001b[39m%d\u001b[39;00m\u001b[39m \u001b[39m\u001b[39m%\u001b[39m\u001b[39mb \u001b[39m\u001b[39m%\u001b[39m\u001b[39mY\u001b[39m\u001b[39m'\u001b[39m)\u001b[39m.\u001b[39mstrftime(\u001b[39m'\u001b[39m\u001b[39m%\u001b[39m\u001b[39mm/\u001b[39m\u001b[39m%d\u001b[39;00m\u001b[39m/\u001b[39m\u001b[39m%\u001b[39m\u001b[39mY\u001b[39m\u001b[39m'\u001b[39m)\n\u001b[0;32m     50\u001b[0m home_team\u001b[39m=\u001b[39m WebDriverWait(driver, \u001b[39m4\u001b[39m)\u001b[39m.\u001b[39muntil(EC\u001b[39m.\u001b[39melement_to_be_clickable((By\u001b[39m.\u001b[39mXPATH, \u001b[39m'\u001b[39m\u001b[39m//*[@id=\u001b[39m\u001b[39m\"\u001b[39m\u001b[39mmainContent\u001b[39m\u001b[39m\"\u001b[39m\u001b[39m]/div/section[2]/div[2]/section/div/div[2]/div/div[1]/div[1]/a[2]/span[1]\u001b[39m\u001b[39m'\u001b[39m)))\u001b[39m.\u001b[39mtext\n",
      "File \u001b[1;32mc:\\Users\\lenovo\\anaconda3\\envs\\se_pl_analysis_env\\lib\\site-packages\\selenium\\webdriver\\support\\wait.py:95\u001b[0m, in \u001b[0;36mWebDriverWait.until\u001b[1;34m(self, method, message)\u001b[0m\n\u001b[0;32m     93\u001b[0m     \u001b[39mif\u001b[39;00m time\u001b[39m.\u001b[39mmonotonic() \u001b[39m>\u001b[39m end_time:\n\u001b[0;32m     94\u001b[0m         \u001b[39mbreak\u001b[39;00m\n\u001b[1;32m---> 95\u001b[0m \u001b[39mraise\u001b[39;00m TimeoutException(message, screen, stacktrace)\n",
      "\u001b[1;31mTimeoutException\u001b[0m: Message: \nStacktrace:\n\tGetHandleVerifier [0x00007FF6BF857892+54818]\n\t(No symbol) [0x00007FF6BF7C6AC2]\n\t(No symbol) [0x00007FF6BF67DA3B]\n\t(No symbol) [0x00007FF6BF6BE4FC]\n\t(No symbol) [0x00007FF6BF6BE67C]\n\t(No symbol) [0x00007FF6BF6F9627]\n\t(No symbol) [0x00007FF6BF6DEAEF]\n\t(No symbol) [0x00007FF6BF6F75A2]\n\t(No symbol) [0x00007FF6BF6DE883]\n\t(No symbol) [0x00007FF6BF6B3691]\n\t(No symbol) [0x00007FF6BF6B48D4]\n\tGetHandleVerifier [0x00007FF6BFBBB992+3610402]\n\tGetHandleVerifier [0x00007FF6BFC11860+3962352]\n\tGetHandleVerifier [0x00007FF6BFC09D4F+3930847]\n\tGetHandleVerifier [0x00007FF6BF8F3646+693206]\n\t(No symbol) [0x00007FF6BF7D1628]\n\t(No symbol) [0x00007FF6BF7CD934]\n\t(No symbol) [0x00007FF6BF7CDA62]\n\t(No symbol) [0x00007FF6BF7BE113]\n\tBaseThreadInitThunk [0x00007FFE82837344+20]\n\tRtlUserThreadStart [0x00007FFE839A26B1+33]\n"
     ]
    }
   ],
   "source": [
    "df = misc_handler.return_match_df_from_web(94912,94913)"
   ]
  },
  {
   "cell_type": "code",
   "execution_count": null,
   "metadata": {},
   "outputs": [],
   "source": [
    "df['Date'] = df['Date'].astype('datetime64[ns]')"
   ]
  },
  {
   "cell_type": "code",
   "execution_count": null,
   "metadata": {},
   "outputs": [],
   "source": [
    "df.columns=df.columns.str.replace(\"_%\",\"\")"
   ]
  },
  {
   "cell_type": "code",
   "execution_count": null,
   "metadata": {},
   "outputs": [],
   "source": [
    "df"
   ]
  },
  {
   "cell_type": "code",
   "execution_count": null,
   "metadata": {},
   "outputs": [],
   "source": [
    "from prehook import first_time_web_scraping\n",
    "first_time_web_scraping()"
   ]
  }
 ],
 "metadata": {
  "kernelspec": {
   "display_name": "Python 3",
   "language": "python",
   "name": "python3"
  },
  "language_info": {
   "codemirror_mode": {
    "name": "ipython",
    "version": 3
   },
   "file_extension": ".py",
   "mimetype": "text/x-python",
   "name": "python",
   "nbconvert_exporter": "python",
   "pygments_lexer": "ipython3",
   "version": "3.10.9"
  },
  "orig_nbformat": 4
 },
 "nbformat": 4,
 "nbformat_minor": 2
}
