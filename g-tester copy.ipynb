{
 "cells": [
  {
   "cell_type": "code",
   "execution_count": null,
   "metadata": {},
   "outputs": [],
   "source": [
    "import prehook\n",
    "\n",
    "prehook.execute_prehook()"
   ]
  },
  {
   "cell_type": "code",
   "execution_count": null,
   "metadata": {},
   "outputs": [],
   "source": [
    "import hook\n",
    "import prehook\n",
    "import database_handler\n",
    "import lookups\n",
    "import datetime\n",
    "\n",
    "db_session = database_handler.create_connection()\n",
    "# hook.create_etl_checkpoint(db_session)"
   ]
  },
  {
   "cell_type": "code",
   "execution_count": null,
   "metadata": {},
   "outputs": [],
   "source": [
    "hook.return_lookup_items_as_dict(lookups.IncrementalField)"
   ]
  },
  {
   "cell_type": "code",
   "execution_count": null,
   "metadata": {},
   "outputs": [],
   "source": [
    "import hook\n",
    "import prehook\n",
    "import database_handler\n",
    "import lookups\n",
    "import datetime\n",
    "\n",
    "db_session = database_handler.create_connection()\n",
    "etl_date = datetime.datetime(1900,1,1)\n",
    "#SourceName is schema name\n",
    "source_name = lookups.SourceName.DVD_RENTAL.value\n",
    "#This will get you a list of tables inside this schema that are mentioned in SQLTablesToReplicate\n",
    "tables = prehook.return_tables_by_schema(source_name)\n",
    "#This will return \n",
    "incremental_date_dict = hook.return_lookup_items_as_dict(lookups.IncrementalField)\n",
    "# for table in tables:\n",
    "staging_query = f\"\"\"\n",
    "        SELECT * FROM {source_name}.{tables[0]} WHERE {incremental_date_dict.get(tables[0])} >= '{etl_date}'\n",
    "\"\"\" \n",
    "staging_df = database_handler.return_data_as_df(db_session= db_session, input_type= lookups.InputTypes.SQL, file_executor= staging_query)\n",
    "dst_table = f\"stg_{source_name}_{tables[0]}\"\n",
    "insert_stmt = database_handler.return_insert_into_sql_statement_from_df(staging_df, 'dw_reporting', dst_table)\n",
    "for insert in insert_stmt:\n",
    "        database_handler.execute_query(db_session=db_session, query= insert)"
   ]
  },
  {
   "cell_type": "code",
   "execution_count": 1,
   "metadata": {},
   "outputs": [],
   "source": [
    "import misc_handler\n"
   ]
  },
  {
   "cell_type": "code",
   "execution_count": 4,
   "metadata": {},
   "outputs": [],
   "source": [
    "df = misc_handler.return_match_df_from_web(66342,66343)"
   ]
  },
  {
   "cell_type": "code",
   "execution_count": 5,
   "metadata": {},
   "outputs": [
    {
     "data": {
      "text/html": [
       "<div>\n",
       "<style scoped>\n",
       "    .dataframe tbody tr th:only-of-type {\n",
       "        vertical-align: middle;\n",
       "    }\n",
       "\n",
       "    .dataframe tbody tr th {\n",
       "        vertical-align: top;\n",
       "    }\n",
       "\n",
       "    .dataframe thead th {\n",
       "        text-align: right;\n",
       "    }\n",
       "</style>\n",
       "<table border=\"1\" class=\"dataframe\">\n",
       "  <thead>\n",
       "    <tr style=\"text-align: right;\">\n",
       "      <th></th>\n",
       "      <th>match_id</th>\n",
       "      <th>date</th>\n",
       "      <th>home_team</th>\n",
       "      <th>away_team</th>\n",
       "      <th>home_score</th>\n",
       "      <th>away_score</th>\n",
       "      <th>home_possession_%</th>\n",
       "      <th>away_possession_%</th>\n",
       "      <th>home_shots_on_target</th>\n",
       "      <th>away_shots_on_target</th>\n",
       "      <th>...</th>\n",
       "      <th>home_corners</th>\n",
       "      <th>away_corners</th>\n",
       "      <th>home_offsides</th>\n",
       "      <th>away_offsides</th>\n",
       "      <th>home_yellow_cards</th>\n",
       "      <th>away_yellow_cards</th>\n",
       "      <th>home_red_cards</th>\n",
       "      <th>away_red_cards</th>\n",
       "      <th>home_fouls_conceded</th>\n",
       "      <th>away_fouls_conceded</th>\n",
       "    </tr>\n",
       "  </thead>\n",
       "  <tbody>\n",
       "    <tr>\n",
       "      <th>0</th>\n",
       "      <td>66342</td>\n",
       "      <td>08/13/2021</td>\n",
       "      <td>Brentford</td>\n",
       "      <td>Arsenal</td>\n",
       "      <td>2</td>\n",
       "      <td>0</td>\n",
       "      <td>35.3</td>\n",
       "      <td>64.7</td>\n",
       "      <td>3.0</td>\n",
       "      <td>4.0</td>\n",
       "      <td>...</td>\n",
       "      <td>2.0</td>\n",
       "      <td>5.0</td>\n",
       "      <td>1.0</td>\n",
       "      <td>1.0</td>\n",
       "      <td>None</td>\n",
       "      <td>None</td>\n",
       "      <td>None</td>\n",
       "      <td>None</td>\n",
       "      <td>12.0</td>\n",
       "      <td>8.0</td>\n",
       "    </tr>\n",
       "  </tbody>\n",
       "</table>\n",
       "<p>1 rows × 30 columns</p>\n",
       "</div>"
      ],
      "text/plain": [
       "   match_id        date  home_team away_team home_score away_score  \\\n",
       "0     66342  08/13/2021  Brentford   Arsenal          2          0   \n",
       "\n",
       "   home_possession_%  away_possession_%  home_shots_on_target  \\\n",
       "0               35.3               64.7                   3.0   \n",
       "\n",
       "   away_shots_on_target  ...  home_corners  away_corners  home_offsides  \\\n",
       "0                   4.0  ...           2.0           5.0            1.0   \n",
       "\n",
       "   away_offsides  home_yellow_cards  away_yellow_cards  home_red_cards  \\\n",
       "0            1.0               None               None            None   \n",
       "\n",
       "   away_red_cards  home_fouls_conceded  away_fouls_conceded  \n",
       "0            None                 12.0                  8.0  \n",
       "\n",
       "[1 rows x 30 columns]"
      ]
     },
     "execution_count": 5,
     "metadata": {},
     "output_type": "execute_result"
    }
   ],
   "source": [
    "df"
   ]
  },
  {
   "cell_type": "code",
   "execution_count": null,
   "metadata": {},
   "outputs": [],
   "source": [
    "df['Date'] = df['Date'].astype('datetime64[ns]')"
   ]
  },
  {
   "cell_type": "code",
   "execution_count": null,
   "metadata": {},
   "outputs": [],
   "source": [
    "df.columns=df.columns.str.replace(\"_%\",\"\")"
   ]
  },
  {
   "cell_type": "code",
   "execution_count": null,
   "metadata": {},
   "outputs": [],
   "source": [
    "df"
   ]
  },
  {
   "cell_type": "code",
   "execution_count": null,
   "metadata": {},
   "outputs": [],
   "source": [
    "from prehook import first_time_web_scraping\n",
    "first_time_web_scraping()"
   ]
  }
 ],
 "metadata": {
  "kernelspec": {
   "display_name": "Python 3",
   "language": "python",
   "name": "python3"
  },
  "language_info": {
   "codemirror_mode": {
    "name": "ipython",
    "version": 3
   },
   "file_extension": ".py",
   "mimetype": "text/x-python",
   "name": "python",
   "nbconvert_exporter": "python",
   "pygments_lexer": "ipython3",
   "version": "3.10.9"
  },
  "orig_nbformat": 4
 },
 "nbformat": 4,
 "nbformat_minor": 2
}
