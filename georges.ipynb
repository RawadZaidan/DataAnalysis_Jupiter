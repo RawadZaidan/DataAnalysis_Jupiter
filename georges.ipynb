{
 "cells": [
  {
   "cell_type": "code",
   "execution_count": null,
   "metadata": {},
   "outputs": [],
   "source": [
    "from misc_handler import return_match_df_from_web,read_seasons_into_sql\n",
    "import pandas as pd\n",
    "from lookups import SEASONS_TEST\n",
    "from database_handler import create_connection\n"
   ]
  },
  {
   "cell_type": "code",
   "execution_count": null,
   "metadata": {},
   "outputs": [],
   "source": [
    "db_session=create_connection()\n",
    "read_seasons_into_sql(db_session)"
   ]
  },
  {
   "cell_type": "code",
   "execution_count": null,
   "metadata": {},
   "outputs": [],
   "source": [
    "return_df=pd.DataFrame()\n",
    "for season in SEASONS_TEST:\n",
    "    df=return_match_df_from_web(season.value[0],season.value[1])\n",
    "    return_df=pd.concat((return_df,df),axis=0,ignore_index=True)\n"
   ]
  },
  {
   "cell_type": "code",
   "execution_count": null,
   "metadata": {},
   "outputs": [],
   "source": [
    "return_df=pd.DataFrame()\n",
    "for season in SEASONS_TEST:\n",
    "    df=return_match_df_from_web(season.value[0],season.value[1])\n",
    "    return_df=return_df.append(df,ignore_index=True)"
   ]
  },
  {
   "cell_type": "code",
   "execution_count": null,
   "metadata": {},
   "outputs": [],
   "source": [
    "return_df"
   ]
  }
 ],
 "metadata": {
  "language_info": {
   "name": "python"
  },
  "orig_nbformat": 4
 },
 "nbformat": 4,
 "nbformat_minor": 2
}
