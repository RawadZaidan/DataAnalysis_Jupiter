{
 "cells": [
  {
   "cell_type": "code",
   "execution_count": null,
   "metadata": {},
   "outputs": [],
   "source": [
    "import os\n",
    "import requests\n",
    "\n",
    "def download_file(url, output_folder=\"./batata\"):\n",
    "    # Get the filename from the URL\n",
    "    file_name = url.split(\"/\")[-1]\n",
    "    \n",
    "    # Create the local file path\n",
    "    file_path = os.path.join(output_folder, file_name)\n",
    "\n",
    "    try:\n",
    "        # Send an HTTP GET request to the URL\n",
    "        response = requests.get(url)\n",
    "        response.raise_for_status()  # Raise an exception for HTTP errors\n",
    "\n",
    "        # Write the content to the local file\n",
    "        with open(file_path, \"wb\") as file:\n",
    "            file.write(response.content)\n",
    "        \n",
    "        return file_path\n",
    "    except Exception as e:\n",
    "        print(f\"Error downloading file: {e}\")\n",
    "        return None\n",
    "\n",
    "# Usage\n",
    "file_url = \"https://drive.google.com/file/d/1CurzNh94a6mRroVWr2sjLFwl6xEjj1yE/view?usp=drive_link\"\n",
    "downloaded_file_path = download_file(file_url)\n",
    "\n",
    "if downloaded_file_path:\n",
    "    print(f\"File downloaded to: {downloaded_file_path}\")\n",
    "else:\n",
    "    print(\"File download failed.\")\n"
   ]
  },
  {
   "cell_type": "code",
   "execution_count": null,
   "metadata": {},
   "outputs": [],
   "source": [
    "import requests\n",
    "import os\n",
    "\n",
    "url = \"https://drive.google.com/file/d/1CurzNh94a6mRroVWr2sjLFwl6xEjj1yE/view?usp=drive_link\"\n",
    "response = requests.get(url)\n",
    "response.raise_for_status()  # Raise an exception for HTTP errors\n",
    "\n",
    "file_path = \"./table_files\"\n",
    "# Write the content to the local file\n",
    "with open(file_path, \"wb\") as file:\n",
    "    file.write(response.content)"
   ]
  },
  {
   "cell_type": "code",
   "execution_count": 1,
   "metadata": {},
   "outputs": [
    {
     "data": {
      "text/plain": [
       "82293"
      ]
     },
     "execution_count": 1,
     "metadata": {},
     "output_type": "execute_result"
    }
   ],
   "source": [
    "import requests\n",
    "\n",
    "url = \"https://drive.google.com/file/d/1CurzNh94a6mRroVWr2sjLFwl6xEjj1yE/view?usp=drive_link\"\n",
    "r = requests.get(url, allow_redirects=True)\n",
    "\n",
    "open('table1.csv', 'wb').write(r.content)"
   ]
  },
  {
   "cell_type": "code",
   "execution_count": 3,
   "metadata": {},
   "outputs": [
    {
     "name": "stdout",
     "output_type": "stream",
     "text": [
      "APPEARANCES\n"
     ]
    }
   ],
   "source": [
    "import urls\n",
    "\n",
    "print(urls.URLS.APPEARANCES.name)"
   ]
  }
 ],
 "metadata": {
  "kernelspec": {
   "display_name": "Python 3",
   "language": "python",
   "name": "python3"
  },
  "language_info": {
   "codemirror_mode": {
    "name": "ipython",
    "version": 3
   },
   "file_extension": ".py",
   "mimetype": "text/x-python",
   "name": "python",
   "nbconvert_exporter": "python",
   "pygments_lexer": "ipython3",
   "version": "3.11.3"
  },
  "orig_nbformat": 4
 },
 "nbformat": 4,
 "nbformat_minor": 2
}
