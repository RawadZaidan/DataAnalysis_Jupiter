{
 "cells": [
  {
   "cell_type": "code",
   "execution_count": null,
   "metadata": {},
   "outputs": [],
   "source": [
    "from hookpart2 import execute_hook,create_etl_checkpoint, return_etl_last_updated_index\n",
    "from database_handler import create_connection, execute_query\n",
    "from prehook import return_data_as_df\n",
    "from lookups import InputTypes, DESTINATION_SCHEMA\n",
    "db_session = create_connection()\n",
    "query = f\"\"\"\n",
    "            SELECT table_name\n",
    "            FROM information_schema.tables\n",
    "            WHERE table_schema = '{DESTINATION_SCHEMA.DESTINATION_NAME.value}'\n",
    "        \"\"\"\n",
    "df = return_data_as_df(file_executor=query, input_type= InputTypes.SQL, db_session = db_session)\n",
    "for row in df.iloc[:, 0].tolist():\n",
    "    if row[:3] == 'stg':\n",
    "        truncate_query = f\"TRUNCATE TABLE {DESTINATION_SCHEMA.DESTINATION_NAME.value}.{row} RESTART IDENTITY CASCADE;\"\n",
    "        execute_query(db_session,truncate_query)"
   ]
  },
  {
   "cell_type": "code",
   "execution_count": null,
   "metadata": {},
   "outputs": [],
   "source": [
    "from misc_handler import insert_web_into_sql\n",
    "\n",
    "\n",
    "insert_web_into_sql(db_session,'web_scraping_files')"
   ]
  },
  {
   "cell_type": "code",
   "execution_count": null,
   "metadata": {},
   "outputs": [],
   "source": [
    "from misc_handler import return_all_seasons_standings_df_from_web,return_all_standings_df_from_web\n",
    "from database_handler import create_connection\n",
    "\n",
    "db_session = create_connection()\n",
    "df = return_all_seasons_standings_df_from_web()\n",
    "df.head(40)"
   ]
  },
  {
   "cell_type": "code",
   "execution_count": null,
   "metadata": {},
   "outputs": [],
   "source": [
    "from misc_handler import return_all_seasons_standings_df_from_web,return_all_standings_df_from_web\n",
    "from database_handler import create_connection\n",
    "\n",
    "db_session = create_connection()\n",
    "df = return_all_standings_df_from_web('https://www.skysports.com/premier-league-table/2023')"
   ]
  },
  {
   "cell_type": "code",
   "execution_count": null,
   "metadata": {},
   "outputs": [],
   "source": [
    "from misc_handler import all_standings\n",
    "\n",
    "df = all_standings()\n",
    "df['Team'].value_counts().sort"
   ]
  },
  {
   "cell_type": "code",
   "execution_count": null,
   "metadata": {},
   "outputs": [],
   "source": [
    "sorted(df.to_dict())"
   ]
  },
  {
   "cell_type": "code",
   "execution_count": 1,
   "metadata": {},
   "outputs": [
    {
     "name": "stdout",
     "output_type": "stream",
     "text": [
      "Working on: Players\n",
      "Reading Done of: Players\n",
      "Cleaning done on: Players\n",
      "Done creating stg table of: Players\n",
      "Inserting into: Players\n",
      "Working on: Player_Valuations\n",
      "Reading Done of: Player_Valuations\n"
     ]
    },
    {
     "name": "stderr",
     "output_type": "stream",
     "text": [
      "c:\\Users\\96171\\Desktop\\SE_Factory\\DataAnalysis_Jupiter\\cleaning_dfs_handler.py:28: SettingWithCopyWarning: \n",
      "A value is trying to be set on a copy of a slice from a DataFrame.\n",
      "Try using .loc[row_indexer,col_indexer] = value instead\n",
      "\n",
      "See the caveats in the documentation: https://pandas.pydata.org/pandas-docs/stable/user_guide/indexing.html#returning-a-view-versus-a-copy\n",
      "  df['date'] = pd.to_datetime(df['date'], errors='coerce')\n"
     ]
    },
    {
     "name": "stdout",
     "output_type": "stream",
     "text": [
      "Cleaning done on: Player_Valuations\n",
      "Done creating stg table of: Player_Valuations\n",
      "Inserting into: Player_Valuations\n",
      "Working on: Games\n",
      "Reading Done of: Games\n",
      "Cleaning done on: Games\n",
      "Done creating stg table of: Games\n",
      "Inserting into: Games\n",
      "Working on: Games_Events\n",
      "Reading Done of: Games_Events\n",
      "Cleaning done on: Games_Events\n",
      "Done creating stg table of: Games_Events\n",
      "Inserting into: Games_Events\n",
      "Working on: Competitions\n",
      "Reading Done of: Competitions\n",
      "Cleaning done on: Competitions\n",
      "Done creating stg table of: Competitions\n",
      "Inserting into: Competitions\n",
      "Working on: Clubs\n",
      "Reading Done of: Clubs\n",
      "Cleaning done on: Clubs\n",
      "Done creating stg table of: Clubs\n",
      "Inserting into: Clubs\n",
      "Working on: Appearances\n",
      "Reading Done of: Appearances\n",
      "Cleaning done on: Appearances\n",
      "Done creating stg table of: Appearances\n",
      "Inserting into: Appearances\n"
     ]
    }
   ],
   "source": [
    "from prehook import insert_standings_into_stg, first_time_csv\n",
    "from database_handler import create_connection\n",
    "\n",
    "db_session = create_connection()\n",
    "first_time_csv(db_session)"
   ]
  }
 ],
 "metadata": {
  "kernelspec": {
   "display_name": "Python 3",
   "language": "python",
   "name": "python3"
  },
  "language_info": {
   "codemirror_mode": {
    "name": "ipython",
    "version": 3
   },
   "file_extension": ".py",
   "mimetype": "text/x-python",
   "name": "python",
   "nbconvert_exporter": "python",
   "pygments_lexer": "ipython3",
   "version": "3.11.3"
  },
  "orig_nbformat": 4
 },
 "nbformat": 4,
 "nbformat_minor": 2
}
