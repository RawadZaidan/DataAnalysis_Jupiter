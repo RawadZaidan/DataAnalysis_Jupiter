{
 "cells": [
  {
   "cell_type": "code",
   "execution_count": 1,
   "metadata": {},
   "outputs": [],
   "source": [
    "from hookpart2 import execute_hook,create_etl_checkpoint, return_etl_last_updated_index\n",
    "from database_handler import create_connection, execute_query\n",
    "from prehook import return_data_as_df\n",
    "from lookups import InputTypes, DESTINATION_SCHEMA\n",
    "db_session = create_connection()\n",
    "query = f\"\"\"\n",
    "            SELECT table_name\n",
    "            FROM information_schema.tables\n",
    "            WHERE table_schema = '{DESTINATION_SCHEMA.DESTINATION_NAME.value}'\n",
    "        \"\"\"\n",
    "df = return_data_as_df(file_executor=query, input_type= InputTypes.SQL, db_session = db_session)\n",
    "for row in df.iloc[:, 0].tolist():\n",
    "    if row[:3] == 'stg':\n",
    "        truncate_query = f\"TRUNCATE TABLE {DESTINATION_SCHEMA.DESTINATION_NAME.value}.{row} RESTART IDENTITY CASCADE;\"\n",
    "        execute_query(db_session,truncate_query)"
   ]
  }
 ],
 "metadata": {
  "kernelspec": {
   "display_name": "Python 3",
   "language": "python",
   "name": "python3"
  },
  "language_info": {
   "codemirror_mode": {
    "name": "ipython",
    "version": 3
   },
   "file_extension": ".py",
   "mimetype": "text/x-python",
   "name": "python",
   "nbconvert_exporter": "python",
   "pygments_lexer": "ipython3",
   "version": "3.11.3"
  },
  "orig_nbformat": 4
 },
 "nbformat": 4,
 "nbformat_minor": 2
}
