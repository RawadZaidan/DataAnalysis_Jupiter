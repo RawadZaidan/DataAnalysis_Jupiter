{
 "cells": [
  {
   "cell_type": "code",
   "execution_count": 1,
   "metadata": {},
   "outputs": [
    {
     "data": {
      "text/plain": [
       "Index(['Unnamed: 0', 'match_id', 'date', 'home_team', 'away_team',\n",
       "       'home_score', 'away_score', 'home_possession_%', 'away_possession_%',\n",
       "       'home_shots_on_target', 'away_shots_on_target', 'home_shots',\n",
       "       'away_shots', 'home_touches', 'away_touches', 'home_passes',\n",
       "       'away_passes', 'home_tackles', 'away_tackles', 'home_clearances',\n",
       "       'away_clearances', 'home_corners', 'away_corners', 'home_offsides',\n",
       "       'away_offsides', 'home_yellow_cards', 'away_yellow_cards',\n",
       "       'home_red_cards', 'away_red_cards', 'home_fouls_conceded',\n",
       "       'away_fouls_conceded'],\n",
       "      dtype='object')"
      ]
     },
     "execution_count": 1,
     "metadata": {},
     "output_type": "execute_result"
    }
   ],
   "source": [
    "import pandas as pd \n",
    "\n",
    "df = pd.read_csv('web_scraping_files/S20_21.csv')\n",
    "df.columns"
   ]
  }
 ],
 "metadata": {
  "kernelspec": {
   "display_name": "Python 3",
   "language": "python",
   "name": "python3"
  },
  "language_info": {
   "codemirror_mode": {
    "name": "ipython",
    "version": 3
   },
   "file_extension": ".py",
   "mimetype": "text/x-python",
   "name": "python",
   "nbconvert_exporter": "python",
   "pygments_lexer": "ipython3",
   "version": "3.11.3"
  },
  "orig_nbformat": 4
 },
 "nbformat": 4,
 "nbformat_minor": 2
}
