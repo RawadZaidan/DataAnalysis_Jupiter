{
 "cells": [
  {
   "cell_type": "code",
   "execution_count": null,
   "metadata": {},
   "outputs": [],
   "source": [
    "# from misc_handler import download_files\n",
    "# download_files()"
   ]
  },
  {
   "cell_type": "code",
   "execution_count": null,
   "metadata": {},
   "outputs": [],
   "source": [
    "import pandas_handler as pdh\n",
    "import database_handler as dbh\n",
    "from database_handler import return_data_as_df, return_create_statement_from_df\n",
    "from lookups import InputTypes\n",
    "df = return_data_as_df('./batata/Players.csv',InputTypes.CSV)\n",
    "df"
   ]
  },
  {
   "cell_type": "code",
   "execution_count": null,
   "metadata": {},
   "outputs": [],
   "source": [
    "from database_handler import create_connection\n",
    "\n",
    "create_connection()"
   ]
  },
  {
   "cell_type": "code",
   "execution_count": null,
   "metadata": {},
   "outputs": [],
   "source": [
    "# from lookups import DESTINATION_SCHEMA\n",
    "# import database_handler as dbh\n",
    "# db_session = dbh.create_connection()\n",
    "# query = return_create_statement_from_df(df, DESTINATION_SCHEMA.DESTINATION_NAME.value,'Players')\n",
    "# query\n",
    "# # dbh.execute_query(db_session=db_session, query=query)"
   ]
  },
  {
   "cell_type": "code",
   "execution_count": null,
   "metadata": {},
   "outputs": [],
   "source": [
    "import pandas_handler as pdh\n",
    "\n",
    "dicto = pdh.get_csv_file_names_into_dict()"
   ]
  },
  {
   "cell_type": "code",
   "execution_count": null,
   "metadata": {},
   "outputs": [],
   "source": [
    "jjj = pdh.return_paths_dict(dicto)\n",
    "jjj"
   ]
  },
  {
   "cell_type": "code",
   "execution_count": null,
   "metadata": {},
   "outputs": [],
   "source": [
    "for l,m in jjj.items():\n",
    "    print(l,m)"
   ]
  },
  {
   "cell_type": "code",
   "execution_count": null,
   "metadata": {},
   "outputs": [],
   "source": [
    "from lookups import DESTINATION_SCHEMA\n",
    "query = dbh.return_create_statement_from_df_stg(df, DESTINATION_SCHEMA.DESTINATION_NAME.value, 'players')\n",
    "db_session = dbh.create_connection()\n",
    "dbh.execute_query(db_session=db_session, query=query)"
   ]
  },
  {
   "cell_type": "code",
   "execution_count": null,
   "metadata": {},
   "outputs": [],
   "source": [
    "from prehook import create_stg_tables_from_csv\n",
    "from database_handler import create_connection\n",
    "db_session = create_connection()\n",
    "create_stg_tables_from_csv(db_session)"
   ]
  },
  {
   "cell_type": "code",
   "execution_count": 1,
   "metadata": {},
   "outputs": [
    {
     "name": "stdout",
     "output_type": "stream",
     "text": [
      "Downloaded Clubs.csv to tables\n",
      "File path is tables\n",
      "Done\n",
      "Done\n",
      "Done\n",
      "Done\n",
      "Done\n",
      "Done\n",
      "Done\n",
      "Done\n"
     ]
    }
   ],
   "source": [
    "from prehook import first_time_run_download\n",
    "\n",
    "first_time_run_download()"
   ]
  },
  {
   "cell_type": "code",
   "execution_count": null,
   "metadata": {},
   "outputs": [],
   "source": [
    "to_csv    "
   ]
  }
 ],
 "metadata": {
  "kernelspec": {
   "display_name": "Python 3",
   "language": "python",
   "name": "python3"
  },
  "language_info": {
   "codemirror_mode": {
    "name": "ipython",
    "version": 3
   },
   "file_extension": ".py",
   "mimetype": "text/x-python",
   "name": "python",
   "nbconvert_exporter": "python",
   "pygments_lexer": "ipython3",
   "version": "3.11.3"
  },
  "orig_nbformat": 4
 },
 "nbformat": 4,
 "nbformat_minor": 2
}
