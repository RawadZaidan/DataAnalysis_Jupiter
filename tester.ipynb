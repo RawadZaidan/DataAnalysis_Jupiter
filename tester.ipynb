{
 "cells": [
  {
   "cell_type": "code",
   "execution_count": null,
   "metadata": {},
   "outputs": [],
   "source": [
    "import pandas as pd \n",
    "from cleaning_dfs_handler import clean_clubs_function\n",
    "from database_handler import create_connection, return_insert_into_sql_statement_from_df_stg, execute_query,return_create_statement_from_df_stg\n",
    "from misc_handler import read_csv_files_from_drive\n",
    "from lookups import READURLS\n",
    "\n",
    "df = read_csv_files_from_drive(\"https://drive.google.com/file/d/1SD96aMVyrScGeUTSsCyd58mT9fjS5eFW/view?usp=drive_link\")\n",
    "df = clean_clubs_function(df)\n",
    "db_session = create_connection()\n",
    "query = return_create_statement_from_df_stg(df,table_name='clubs')\n",
    "execute_query(db_session=db_session,query=query)\n",
    "query = return_insert_into_sql_statement_from_df_stg(df,table_name='clubs')\n",
    "for query_in in query:\n",
    "    execute_query(db_session=db_session,query=query_in)"
   ]
  },
  {
   "cell_type": "code",
   "execution_count": null,
   "metadata": {},
   "outputs": [],
   "source": [
    "from lookups import READURLS\n",
    "import misc_handler\n",
    "import cleaning_dfs_handler\n",
    "import pandas as pd\n",
    "from database_handler import create_connection, return_insert_into_sql_statement_from_df_stg, execute_query,return_create_statement_from_df_stg\n",
    "\n",
    "def passer(df):\n",
    "    return df\n",
    "\n",
    "for url in READURLS:\n",
    "    print('Working on:', url.name)\n",
    "    df = misc_handler.read_csv_files_from_drive(url.value)\n",
    "    print('Reading Done of:', url.name)\n",
    "    tables = {'Games' : cleaning_dfs_handler.clean_games_function(df),\n",
    "              'Games_Events' : cleaning_dfs_handler.clean_games_events_function(df)\n",
    "        }#clean_appearances_function(df)}\n",
    "    df = tables[url.name]\n",
    "    print('Cleaning done on:', url.name)\n",
    "    db_session = create_connection()\n",
    "    query = return_create_statement_from_df_stg(df,table_name=url.name)\n",
    "    execute_query(db_session=db_session,query=query)\n",
    "    print('Done creating stg table of:', url.name)\n",
    "    query = return_insert_into_sql_statement_from_df_stg(df,table_name=url.name)\n",
    "    print('Inserting into:', url.name)\n",
    "    for query_in in query:\n",
    "        execute_query(db_session=db_session,query=query_in)"
   ]
  },
  {
   "cell_type": "code",
   "execution_count": 1,
   "metadata": {},
   "outputs": [
    {
     "name": "stdout",
     "output_type": "stream",
     "text": [
      "Working on: Players\n",
      "Reading Done of: Players\n",
      "Cleaning done on: Players\n",
      "Done creating stg table of: Players\n",
      "Inserting into: Players\n",
      "Working on: Player_Valuations\n",
      "Reading Done of: Player_Valuations\n",
      "Cleaning done on: Player_Valuations\n",
      "Done creating stg table of: Player_Valuations\n",
      "Inserting into: Player_Valuations\n"
     ]
    },
    {
     "name": "stderr",
     "output_type": "stream",
     "text": [
      "c:\\Users\\96171\\Desktop\\SE_Factory\\DataAnalysis_Jupiter\\cleaning_dfs_handler.py:28: SettingWithCopyWarning: \n",
      "A value is trying to be set on a copy of a slice from a DataFrame.\n",
      "Try using .loc[row_indexer,col_indexer] = value instead\n",
      "\n",
      "See the caveats in the documentation: https://pandas.pydata.org/pandas-docs/stable/user_guide/indexing.html#returning-a-view-versus-a-copy\n",
      "  df['date'] = pd.to_datetime(df['date'], errors='coerce')\n"
     ]
    },
    {
     "name": "stdout",
     "output_type": "stream",
     "text": [
      "Working on: Games\n",
      "Reading Done of: Games\n",
      "Cleaning done on: Games\n",
      "Done creating stg table of: Games\n",
      "Inserting into: Games\n",
      "Working on: Games_Events\n",
      "Reading Done of: Games_Events\n",
      "Cleaning done on: Games_Events\n",
      "Done creating stg table of: Games_Events\n",
      "Inserting into: Games_Events\n",
      "Working on: Competitions\n",
      "Reading Done of: Competitions\n",
      "Cleaning done on: Competitions\n",
      "Done creating stg table of: Competitions\n",
      "Inserting into: Competitions\n",
      "Working on: Clubs\n",
      "Reading Done of: Clubs\n",
      "Cleaning done on: Clubs\n",
      "Done creating stg table of: Clubs\n",
      "Inserting into: Clubs\n",
      "Working on: Appearances\n",
      "Reading Done of: Appearances\n",
      "Cleaning done on: Appearances\n",
      "Done creating stg table of: Appearances\n",
      "Inserting into: Appearances\n"
     ]
    }
   ],
   "source": [
    "from lookups import READURLS\n",
    "import misc_handler\n",
    "import cleaning_dfs_handler\n",
    "import pandas as pd\n",
    "from database_handler import create_connection, return_insert_into_sql_statement_from_df_stg, execute_query,return_create_statement_from_df_stg\n",
    "\n",
    "for url in READURLS:\n",
    "    print('Working on:', url.name)\n",
    "    df = misc_handler.read_csv_files_from_drive(url.value)\n",
    "    print('Reading Done of:', url.name)\n",
    "\n",
    "    tables = {'Players' : cleaning_dfs_handler.clean_players_function,\n",
    "        'Player_Valuations' : cleaning_dfs_handler.clean_player_valuations_function,\n",
    "        'Games' : cleaning_dfs_handler.clean_games_function,\n",
    "        'Games_Events' : cleaning_dfs_handler.clean_games_events_function,\n",
    "        'Competitions' : cleaning_dfs_handler.clean_competitions_function,\n",
    "        'Clubs' : cleaning_dfs_handler.clean_clubs_function,\n",
    "        'Appearances' : cleaning_dfs_handler.clean_appearances_function}\n",
    "    \n",
    "    df = tables[url.name](df)\n",
    "    print('Cleaning done on:', url.name)\n",
    "    db_session = create_connection()\n",
    "    query = return_create_statement_from_df_stg(df,table_name=url.name)\n",
    "    execute_query(db_session=db_session,query=query)\n",
    "    print('Done creating stg table of:', url.name)\n",
    "    query = return_insert_into_sql_statement_from_df_stg(df,table_name=url.name)\n",
    "    print('Inserting into:', url.name)\n",
    "    for query_in in query:\n",
    "        execute_query(db_session=db_session,query=query_in)"
   ]
  },
  {
   "cell_type": "code",
   "execution_count": null,
   "metadata": {},
   "outputs": [],
   "source": [
    "df"
   ]
  },
  {
   "cell_type": "code",
   "execution_count": null,
   "metadata": {},
   "outputs": [],
   "source": [
    "import pandas as pd\n",
    "import cleaning_dfs_handler\n",
    "df_games = pd.read_csv('tables/Games.csv')\n",
    "df_games = cleaning_dfs_handler.clean_games_function(df_games)\n",
    "df_games.columns"
   ]
  },
  {
   "cell_type": "code",
   "execution_count": null,
   "metadata": {},
   "outputs": [],
   "source": [
    "df_game_events = pd.read_csv('tables/Games_Events.csv')\n",
    "df_game_events = clean_games_events_function(df_game_events)\n",
    "df_game_events.columns"
   ]
  },
  {
   "cell_type": "code",
   "execution_count": null,
   "metadata": {},
   "outputs": [],
   "source": [
    "from database_handler import create_connection, return_insert_into_sql_statement_from_df_stg, execute_query,return_create_statement_from_df_stg\n",
    "\n",
    "db_session = create_connection()\n",
    "query = return_create_statement_from_df_stg(dataframe=df_game_events,table_name=READURLS.Games_Events.name)\n",
    "execute_query(db_session=db_session,query=query)\n",
    "query = return_insert_into_sql_statement_from_df_stg(df_game_events,table_name=READURLS.Games_Events.name)\n",
    "for query_in in query:\n",
    "    execute_query(db_session=db_session,query=query_in)"
   ]
  },
  {
   "cell_type": "code",
   "execution_count": null,
   "metadata": {},
   "outputs": [],
   "source": [
    "tables = {'Players' : None,#clean_players_function(df),\n",
    "        'Player_Valuations' : None,#clean_player_valuations_function(df),\n",
    "        'Games' : cleaning_dfs_handler.clean_games_function(df),\n",
    "        'Games_Events' : cleaning_dfs_handler.clean_games_events_function(df),\n",
    "        'Competitions' : None,#clean_competitions_function(df),\n",
    "        'Clubs' : None,#clean_clubs_function(df),\n",
    "        'Appearances' : None}#clean_appearances_function(df)}"
   ]
  },
  {
   "cell_type": "code",
   "execution_count": null,
   "metadata": {},
   "outputs": [],
   "source": [
    "for query_in in query:\n",
    "    execute_query(db_session=db_session,query=query_in)"
   ]
  },
  {
   "cell_type": "code",
   "execution_count": null,
   "metadata": {},
   "outputs": [],
   "source": [
    "from lookups import READURLS\n",
    "import misc_handler\n",
    "from cleaning_dfs_handler import clean_appearances_function,clean_competitions_function,clean_games_events_function,clean_games_function,clean_players_function, clean_clubs_function,clean_player_valuations_function\n",
    "import pandas as pd\n",
    "from database_handler import create_connection, return_insert_into_sql_statement_from_df_stg, execute_query,return_create_statement_from_df_stg\n",
    "\n",
    "def passer(df):\n",
    "    return df\n",
    "\n",
    "for url in READURLS:\n",
    "    print('Working on:', url.name)\n",
    "    df = misc_handler.read_csv_files_from_drive(url.value)\n",
    "    print('Reading Done of:', url.name)\n",
    "    tables = {'Players' : passer(df),#clean_players_function(df),\n",
    "        'Player_Valuations' : passer(df),#clean_player_valuations_function(df),\n",
    "        'Games' : clean_games_function(df),\n",
    "        'Games_Events' : clean_games_events_function(df),\n",
    "        'Competitions' : passer(df),#clean_competitions_function(df),\n",
    "        'Clubs' : passer(df),#clean_clubs_function(df),\n",
    "        'Appearances' : passer(df)}#clean_appearances_function(df)}\n",
    "    df = tables[url.name]\n",
    "    print('Cleaning done on:', url.name)\n",
    "    db_session = create_connection()\n",
    "    query = return_create_statement_from_df_stg(df,table_name=url.name)\n",
    "    execute_query(db_session=db_session,query=query)\n",
    "    print('Done creating stg table of:', url.name)\n",
    "    query = return_insert_into_sql_statement_from_df_stg(df,table_name=url.name)\n",
    "    print('Inserting into:', url.name)\n",
    "    for query_in in query:\n",
    "        execute_query(db_session=db_session,query=query_in)"
   ]
  },
  {
   "cell_type": "code",
   "execution_count": null,
   "metadata": {},
   "outputs": [],
   "source": [
    "from lookups import READURLS\n",
    "import misc_handler\n",
    "from cleaning_dfs_handler import clean_appearances_function,clean_competitions_function,clean_games_events_function,clean_games_function,clean_players_function, clean_clubs_function,clean_player_valuations_function\n",
    "import pandas as pd\n",
    "from database_handler import create_connection, return_insert_into_sql_statement_from_df_stg, execute_query,return_create_statement_from_df_stg\n",
    "\n",
    "print('Working on:')\n",
    "df = misc_handler.read_csv_files_from_drive('https://drive.google.com/file/d/1wEj6Tli0RKy7WsH6PydeWTdZTYx6iNsw/view?usp=drive_link')\n",
    "print('Reading Done of:')"
   ]
  },
  {
   "cell_type": "code",
   "execution_count": null,
   "metadata": {},
   "outputs": [],
   "source": [
    "df"
   ]
  },
  {
   "cell_type": "code",
   "execution_count": null,
   "metadata": {},
   "outputs": [],
   "source": [
    "tables = {'Players' : passer(df),#clean_players_function(df),\n",
    "        'Player_Valuations' : passer(df),#clean_player_valuations_function(df),\n",
    "        'Games' : clean_games_function(df),\n",
    "        'Games_Events' : clean_games_events_function(df),\n",
    "        'Competitions' : passer(df),#clean_competitions_function(df),\n",
    "        'Clubs' : passer(df),#clean_clubs_function(df),\n",
    "        'Appearances' : passer(df)}\n"
   ]
  },
  {
   "cell_type": "code",
   "execution_count": null,
   "metadata": {},
   "outputs": [],
   "source": [
    "print(tables.get['Games_Events'])"
   ]
  },
  {
   "cell_type": "code",
   "execution_count": null,
   "metadata": {},
   "outputs": [],
   "source": [
    "def passer():\n",
    "    pass\n",
    "tables = {'Players' : passer(),#clean_players_function(df),\n",
    "    'Player_Valuations' : passer(),#clean_player_valuations_function(df),\n",
    "    'Games' : clean_games_function(df),\n",
    "    'Games_Events' : passer(), #clean_games_events_function(df),\n",
    "    'Competitions' : passer(),#clean_competitions_function(df),\n",
    "    'Clubs' : passer(),#clean_clubs_function(df),\n",
    "    'Appearances' : passer()}#clean_appearances_function(df)}\n",
    "df = tables['Games']\n",
    "# print('Cleaning done on:')\n",
    "# db_session = create_connection()\n",
    "# query = return_create_statement_from_df_stg(df,table_name='Games')\n",
    "# execute_query(db_session=db_session,query=query)\n",
    "# print('Done creating stg table of:', 'Games')\n",
    "# query = return_insert_into_sql_statement_from_df_stg(df,table_name='Games')\n",
    "# print('Inserting into:', 'Games')\n",
    "# for query_in in query:\n",
    "#     execute_query(db_session=db_session,query=query_in)\n",
    "df"
   ]
  }
 ],
 "metadata": {
  "kernelspec": {
   "display_name": "Python 3",
   "language": "python",
   "name": "python3"
  },
  "language_info": {
   "codemirror_mode": {
    "name": "ipython",
    "version": 3
   },
   "file_extension": ".py",
   "mimetype": "text/x-python",
   "name": "python",
   "nbconvert_exporter": "python",
   "pygments_lexer": "ipython3",
   "version": "3.11.3"
  },
  "orig_nbformat": 4
 },
 "nbformat": 4,
 "nbformat_minor": 2
}
