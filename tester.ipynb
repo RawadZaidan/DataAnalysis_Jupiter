{
 "cells": [
  {
   "cell_type": "code",
   "execution_count": 1,
   "metadata": {},
   "outputs": [
    {
     "name": "stdout",
     "output_type": "stream",
     "text": [
      "Working on: Players\n",
      "Reading Done of: Players\n",
      "Cleaning done on: Players\n",
      "Done creating stg table of: Players\n",
      "Inserting into: Players\n",
      "Working on: Player_Valuations\n",
      "Reading Done of: Player_Valuations\n",
      "Cleaning done on: Player_Valuations\n",
      "Done creating stg table of: Player_Valuations\n",
      "Inserting into: Player_Valuations\n"
     ]
    },
    {
     "name": "stderr",
     "output_type": "stream",
     "text": [
      "c:\\Users\\96171\\Desktop\\SE_Factory\\DataAnalysis_Jupiter\\cleaning_dfs_handler.py:28: SettingWithCopyWarning: \n",
      "A value is trying to be set on a copy of a slice from a DataFrame.\n",
      "Try using .loc[row_indexer,col_indexer] = value instead\n",
      "\n",
      "See the caveats in the documentation: https://pandas.pydata.org/pandas-docs/stable/user_guide/indexing.html#returning-a-view-versus-a-copy\n",
      "  df['date'] = pd.to_datetime(df['date'], errors='coerce')\n"
     ]
    },
    {
     "name": "stdout",
     "output_type": "stream",
     "text": [
      "Working on: Games\n",
      "Reading Done of: Games\n",
      "Cleaning done on: Games\n",
      "Done creating stg table of: Games\n",
      "Inserting into: Games\n",
      "Working on: Games_Events\n",
      "Reading Done of: Games_Events\n",
      "Cleaning done on: Games_Events\n",
      "Done creating stg table of: Games_Events\n",
      "Inserting into: Games_Events\n",
      "Working on: Competitions\n",
      "Reading Done of: Competitions\n",
      "Cleaning done on: Competitions\n",
      "Done creating stg table of: Competitions\n",
      "Inserting into: Competitions\n",
      "Working on: Clubs\n",
      "Reading Done of: Clubs\n",
      "Cleaning done on: Clubs\n",
      "Done creating stg table of: Clubs\n",
      "Inserting into: Clubs\n",
      "Working on: Appearances\n",
      "Reading Done of: Appearances\n",
      "Cleaning done on: Appearances\n",
      "Done creating stg table of: Appearances\n",
      "Inserting into: Appearances\n"
     ]
    }
   ],
   "source": [
    "from lookups import READURLS\n",
    "import misc_handler\n",
    "import cleaning_dfs_handler\n",
    "import pandas as pd\n",
    "from database_handler import create_connection, return_insert_into_sql_statement_from_df_stg, execute_query,return_create_statement_from_df_stg\n",
    "\n",
    "for url in READURLS:\n",
    "    print('Working on:', url.name)\n",
    "    df = misc_handler.read_csv_files_from_drive(url.value)\n",
    "    print('Reading Done of:', url.name)\n",
    "\n",
    "    tables = {'Players' : cleaning_dfs_handler.clean_players_function,\n",
    "        'Player_Valuations' : cleaning_dfs_handler.clean_player_valuations_function,\n",
    "        'Games' : cleaning_dfs_handler.clean_games_function,\n",
    "        'Games_Events' : cleaning_dfs_handler.clean_games_events_function,\n",
    "        'Competitions' : cleaning_dfs_handler.clean_competitions_function,\n",
    "        'Clubs' : cleaning_dfs_handler.clean_clubs_function,\n",
    "        'Appearances' : cleaning_dfs_handler.clean_appearances_function}\n",
    "    \n",
    "    df = tables[url.name](df)\n",
    "    print('Cleaning done on:', url.name)\n",
    "    db_session = create_connection()\n",
    "    query = return_create_statement_from_df_stg(df,table_name=url.name)\n",
    "    execute_query(db_session=db_session,query=query)\n",
    "    print('Done creating stg table of:', url.name)\n",
    "    query = return_insert_into_sql_statement_from_df_stg(df,table_name=url.name)\n",
    "    print('Inserting into:', url.name)\n",
    "    for query_in in query:\n",
    "        execute_query(db_session=db_session,query=query_in)"
   ]
  },
  {
   "cell_type": "code",
   "execution_count": null,
   "metadata": {},
   "outputs": [],
   "source": [
    "#READ CSV INTO PG ADMIN \n",
    "from lookups import READURLS\n",
    "import misc_handler\n",
    "import cleaning_dfs_handler\n",
    "import pandas as pd\n",
    "from database_handler import create_connection, return_insert_into_sql_statement_from_df_stg, execute_query,return_create_statement_from_df_stg\n",
    "\n",
    "for season in READURLS:\n",
    "\n",
    "    print('Working on:', season)\n",
    "    df = \n",
    "    print('Reading Done of:', season)\n",
    "\n",
    "    df = cleaning_dfs_handler.df_web_cleaning(df)\n",
    "    print('Cleaning done on:', season)\n",
    "    db_session = create_connection()\n",
    "    query = return_create_statement_from_df_stg(df,table_name=season)\n",
    "    execute_query(db_session=db_session,query=query)\n",
    "    print('Done creating stg table of:', season)\n",
    "    query = return_insert_into_sql_statement_from_df_stg(df,table_name=season)\n",
    "    print('Inserting into:', season)\n",
    "    for query_in in query:\n",
    "        execute_query(db_session=db_session,query=query_in)"
   ]
  },
  {
   "cell_type": "code",
   "execution_count": 1,
   "metadata": {},
   "outputs": [],
   "source": [
    "import misc_handler\n",
    "from database_handler import create_connection, return_data_as_df\n",
    "from cleaning_dfs_handler import df_web_cleaning\n",
    "from lookups import WEBSCRAPINGSTAGINGTABLE, InputTypes\n",
    "from prehook import first_time_web_scraping\n",
    "\n",
    "source_folder = 'web_scraping_files'\n",
    "db_session = create_connection()\n",
    "first_time_web_scraping(db_session)\n",
    "csv_files= misc_handler.find_csv_files(source_folder)\n",
    "misc_handler.insert_web_into_sql(db_session,source_folder)"
   ]
  }
 ],
 "metadata": {
  "kernelspec": {
   "display_name": "Python 3",
   "language": "python",
   "name": "python3"
  },
  "language_info": {
   "codemirror_mode": {
    "name": "ipython",
    "version": 3
   },
   "file_extension": ".py",
   "mimetype": "text/x-python",
   "name": "python",
   "nbconvert_exporter": "python",
   "pygments_lexer": "ipython3",
   "version": "3.11.3"
  },
  "orig_nbformat": 4
 },
 "nbformat": 4,
 "nbformat_minor": 2
}
