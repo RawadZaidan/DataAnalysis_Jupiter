{
 "cells": [
  {
   "cell_type": "code",
   "execution_count": null,
   "metadata": {},
   "outputs": [],
   "source": [
    "import pandas as pd \n",
    "from cleaning_dfs_handler import clean_clubs_function\n",
    "from database_handler import create_connection, return_insert_into_sql_statement_from_df_stg, execute_query,return_create_statement_from_df_stg\n",
    "from misc_handler import read_csv_files_from_drive\n",
    "\n",
    "df = read_csv_files_from_drive(\"https://drive.google.com/file/d/1SD96aMVyrScGeUTSsCyd58mT9fjS5eFW/view?usp=drive_link\")\n",
    "df = clean_clubs_function(df)\n",
    "db_session = create_connection()\n",
    "query = return_create_statement_from_df_stg(df,table_name='clubs')\n",
    "execute_query(db_session=db_session,query=query)\n",
    "query = return_insert_into_sql_statement_from_df_stg(df,table_name='clubs')\n",
    "for query_in in query:\n",
    "    execute_query(db_session=db_session,query=query_in)"
   ]
  },
  {
   "cell_type": "code",
   "execution_count": 1,
   "metadata": {},
   "outputs": [
    {
     "name": "stdout",
     "output_type": "stream",
     "text": [
      "Error cleaning player valuations csv=\"['name', 'country_of_citizenship', 'position', 'foot', 'height_in_cm', 'highest_market_value_in_eur', 'current_club_name', 'current_club_domestic_competition_id'] not in index\"\n",
      "Error cleaning clubs csv='competition_id'\n"
     ]
    },
    {
     "name": "stderr",
     "output_type": "stream",
     "text": [
      "c:\\Users\\96171\\Desktop\\SE_Factory\\DataAnalysis_Jupiter\\cleaning_dfs_handler.py:26: SettingWithCopyWarning: \n",
      "A value is trying to be set on a copy of a slice from a DataFrame.\n",
      "Try using .loc[row_indexer,col_indexer] = value instead\n",
      "\n",
      "See the caveats in the documentation: https://pandas.pydata.org/pandas-docs/stable/user_guide/indexing.html#returning-a-view-versus-a-copy\n",
      "  df['date'] = pd.to_datetime(df['date'])\n"
     ]
    },
    {
     "ename": "TypeError",
     "evalue": "clean_games_events_function_georges() missing 1 required positional argument: 'df_games'",
     "output_type": "error",
     "traceback": [
      "\u001b[1;31m---------------------------------------------------------------------------\u001b[0m",
      "\u001b[1;31mTypeError\u001b[0m                                 Traceback (most recent call last)",
      "\u001b[1;32mc:\\Users\\96171\\Desktop\\SE_Factory\\DataAnalysis_Jupiter\\tester.ipynb Cell 2\u001b[0m line \u001b[0;36m1\n\u001b[0;32m      <a href='vscode-notebook-cell:/c%3A/Users/96171/Desktop/SE_Factory/DataAnalysis_Jupiter/tester.ipynb#W2sZmlsZQ%3D%3D?line=5'>6</a>\u001b[0m \u001b[39mfor\u001b[39;00m url \u001b[39min\u001b[39;00m READURLS:\n\u001b[0;32m      <a href='vscode-notebook-cell:/c%3A/Users/96171/Desktop/SE_Factory/DataAnalysis_Jupiter/tester.ipynb#W2sZmlsZQ%3D%3D?line=6'>7</a>\u001b[0m     df \u001b[39m=\u001b[39m read_csv_files_from_drive(url\u001b[39m.\u001b[39mvalue)\n\u001b[0;32m      <a href='vscode-notebook-cell:/c%3A/Users/96171/Desktop/SE_Factory/DataAnalysis_Jupiter/tester.ipynb#W2sZmlsZQ%3D%3D?line=7'>8</a>\u001b[0m     tables \u001b[39m=\u001b[39m {\u001b[39m'\u001b[39m\u001b[39mPlayers\u001b[39m\u001b[39m'\u001b[39m : clean_players_function(df),\n\u001b[0;32m      <a href='vscode-notebook-cell:/c%3A/Users/96171/Desktop/SE_Factory/DataAnalysis_Jupiter/tester.ipynb#W2sZmlsZQ%3D%3D?line=8'>9</a>\u001b[0m         \u001b[39m'\u001b[39m\u001b[39mPlayer_Valuations\u001b[39m\u001b[39m'\u001b[39m : clean_player_valuations_function(df),\n\u001b[0;32m     <a href='vscode-notebook-cell:/c%3A/Users/96171/Desktop/SE_Factory/DataAnalysis_Jupiter/tester.ipynb#W2sZmlsZQ%3D%3D?line=9'>10</a>\u001b[0m         \u001b[39m'\u001b[39m\u001b[39mGames\u001b[39m\u001b[39m'\u001b[39m :clean_games_function(df),\n\u001b[1;32m---> <a href='vscode-notebook-cell:/c%3A/Users/96171/Desktop/SE_Factory/DataAnalysis_Jupiter/tester.ipynb#W2sZmlsZQ%3D%3D?line=10'>11</a>\u001b[0m         \u001b[39m'\u001b[39m\u001b[39mGames_Events\u001b[39m\u001b[39m'\u001b[39m : clean_games_events_function_georges(df),\n\u001b[0;32m     <a href='vscode-notebook-cell:/c%3A/Users/96171/Desktop/SE_Factory/DataAnalysis_Jupiter/tester.ipynb#W2sZmlsZQ%3D%3D?line=11'>12</a>\u001b[0m         \u001b[39m'\u001b[39m\u001b[39mCompetitions\u001b[39m\u001b[39m'\u001b[39m : clean_competitions_function(df),\n\u001b[0;32m     <a href='vscode-notebook-cell:/c%3A/Users/96171/Desktop/SE_Factory/DataAnalysis_Jupiter/tester.ipynb#W2sZmlsZQ%3D%3D?line=12'>13</a>\u001b[0m         \u001b[39m'\u001b[39m\u001b[39mClubs\u001b[39m\u001b[39m'\u001b[39m : clean_clubs_function(df),\n\u001b[0;32m     <a href='vscode-notebook-cell:/c%3A/Users/96171/Desktop/SE_Factory/DataAnalysis_Jupiter/tester.ipynb#W2sZmlsZQ%3D%3D?line=13'>14</a>\u001b[0m         \u001b[39m'\u001b[39m\u001b[39mAppearances\u001b[39m\u001b[39m'\u001b[39m : clean_appearances_function(df)}\n\u001b[0;32m     <a href='vscode-notebook-cell:/c%3A/Users/96171/Desktop/SE_Factory/DataAnalysis_Jupiter/tester.ipynb#W2sZmlsZQ%3D%3D?line=14'>15</a>\u001b[0m     df \u001b[39m=\u001b[39m tables[url\u001b[39m.\u001b[39mname]\n\u001b[0;32m     <a href='vscode-notebook-cell:/c%3A/Users/96171/Desktop/SE_Factory/DataAnalysis_Jupiter/tester.ipynb#W2sZmlsZQ%3D%3D?line=15'>16</a>\u001b[0m     db_session \u001b[39m=\u001b[39m create_connection()\n",
      "\u001b[1;31mTypeError\u001b[0m: clean_games_events_function_georges() missing 1 required positional argument: 'df_games'"
     ]
    }
   ],
   "source": [
    "from lookups import READURLS\n",
    "from misc_handler import read_csv_files_from_drive\n",
    "from cleaning_dfs_handler import clean_appearances_function,clean_competitions_function,clean_games_events_function,clean_games_function,clean_players_function, clean_clubs_function,clean_player_valuations_function\n",
    "import pandas as pd\n",
    "\n",
    "for url in READURLS:\n",
    "    df = read_csv_files_from_drive(url.value)\n",
    "    tables = {'Players' : clean_players_function(df),\n",
    "        'Player_Valuations' : clean_player_valuations_function(df),\n",
    "        'Games' :clean_games_function(df),\n",
    "        'Games_Events' : clean_games_events_function(df),\n",
    "        'Competitions' : clean_competitions_function(df),\n",
    "        'Clubs' : clean_clubs_function(df),\n",
    "        'Appearances' : clean_appearances_function(df)}\n",
    "    df = tables[url.name]\n",
    "    db_session = create_connection()\n",
    "    query = return_create_statement_from_df_stg(df,table_name=url.name)\n",
    "    execute_query(db_session=db_session,query=query)\n",
    "    query = return_insert_into_sql_statement_from_df_stg(df,table_name=url.name)\n",
    "    for query_in in query:\n",
    "        execute_query(db_session=db_session,query=query_in)\n",
    "df"
   ]
  }
 ],
 "metadata": {
  "kernelspec": {
   "display_name": "Python 3",
   "language": "python",
   "name": "python3"
  },
  "language_info": {
   "codemirror_mode": {
    "name": "ipython",
    "version": 3
   },
   "file_extension": ".py",
   "mimetype": "text/x-python",
   "name": "python",
   "nbconvert_exporter": "python",
   "pygments_lexer": "ipython3",
   "version": "3.11.3"
  },
  "orig_nbformat": 4
 },
 "nbformat": 4,
 "nbformat_minor": 2
}
