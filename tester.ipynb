{
 "cells": [
  {
   "cell_type": "code",
   "execution_count": null,
   "metadata": {},
   "outputs": [],
   "source": [
    "from lookups import READURLS\n",
    "import misc_handler\n",
    "import cleaning_dfs_handler\n",
    "import pandas as pd\n",
    "from database_handler import create_connection, return_insert_into_sql_statement_from_df_stg, execute_query,return_create_statement_from_df_stg\n",
    "\n",
    "for url in READURLS:\n",
    "    print('Working on:', url.name)\n",
    "    df = misc_handler.read_csv_files_from_drive(url.value)\n",
    "    print('Reading Done of:', url.name)\n",
    "\n",
    "    tables = {'Players' : cleaning_dfs_handler.clean_players_function,\n",
    "        'Player_Valuations' : cleaning_dfs_handler.clean_player_valuations_function,\n",
    "        'Games' : cleaning_dfs_handler.clean_games_function,\n",
    "        'Games_Events' : cleaning_dfs_handler.clean_games_events_function,\n",
    "        'Competitions' : cleaning_dfs_handler.clean_competitions_function,\n",
    "        'Clubs' : cleaning_dfs_handler.clean_clubs_function,\n",
    "        'Appearances' : cleaning_dfs_handler.clean_appearances_function}\n",
    "    \n",
    "    df = tables[url.name](df)\n",
    "    print('Cleaning done on:', url.name)\n",
    "    db_session = create_connection()\n",
    "    query = return_create_statement_from_df_stg(df,table_name=url.name)\n",
    "    execute_query(db_session=db_session,query=query)\n",
    "    print('Done creating stg table of:', url.name)\n",
    "    query = return_insert_into_sql_statement_from_df_stg(df,table_name=url.name)\n",
    "    print('Inserting into:', url.name)\n",
    "    for query_in in query:\n",
    "        execute_query(db_session=db_session,query=query_in)"
   ]
  },
  {
   "cell_type": "code",
   "execution_count": null,
   "metadata": {},
   "outputs": [],
   "source": [
    "#READ CSV INTO PG ADMIN \n",
    "from lookups import READURLS\n",
    "import misc_handler\n",
    "import cleaning_dfs_handler\n",
    "import pandas as pd\n",
    "from database_handler import create_connection, return_insert_into_sql_statement_from_df_stg, execute_query,return_create_statement_from_df_stg\n",
    "\n",
    "for season in READURLS:\n",
    "\n",
    "    print('Working on:', season)\n",
    "    df = \n",
    "    print('Reading Done of:', season)\n",
    "\n",
    "    df = cleaning_dfs_handler.df_web_cleaning(df)\n",
    "    print('Cleaning done on:', season)\n",
    "    db_session = create_connection()\n",
    "    query = return_create_statement_from_df_stg(df,table_name=season)\n",
    "    execute_query(db_session=db_session,query=query)\n",
    "    print('Done creating stg table of:', season)\n",
    "    query = return_insert_into_sql_statement_from_df_stg(df,table_name=season)\n",
    "    print('Inserting into:', season)\n",
    "    for query_in in query:\n",
    "        execute_query(db_session=db_session,query=query_in)"
   ]
  },
  {
   "cell_type": "code",
   "execution_count": null,
   "metadata": {},
   "outputs": [],
   "source": [
    "import misc_handler\n",
    "from database_handler import create_connection, return_data_as_df\n",
    "from cleaning_dfs_handler import df_web_cleaning\n",
    "from lookups import WEBSCRAPINGSTAGINGTABLE, InputTypes\n",
    "from prehook import first_time_web_scraping\n",
    "\n",
    "source_folder = 'web_scraping_files'\n",
    "db_session = create_connection()\n",
    "first_time_web_scraping(db_session)\n",
    "csv_files= misc_handler.find_csv_files(source_folder)\n",
    "misc_handler.insert_web_into_sql(db_session,source_folder)"
   ]
  },
  {
   "cell_type": "code",
   "execution_count": 1,
   "metadata": {},
   "outputs": [
    {
     "ename": "NoSuchElementException",
     "evalue": "Message: no such element: Unable to locate element: {\"method\":\"css selector\",\"selector\":\".Table2__table__wrapper\"}\n  (Session info: headless chrome=117.0.5938.132); For documentation on this error, please visit: https://www.selenium.dev/documentation/webdriver/troubleshooting/errors#no-such-element-exception\nStacktrace:\n\tGetHandleVerifier [0x00007FF641F57892+54818]\n\t(No symbol) [0x00007FF641EC6AC2]\n\t(No symbol) [0x00007FF641D7DA3B]\n\t(No symbol) [0x00007FF641DBE4FC]\n\t(No symbol) [0x00007FF641DBE67C]\n\t(No symbol) [0x00007FF641DF9627]\n\t(No symbol) [0x00007FF641DDEAEF]\n\t(No symbol) [0x00007FF641DF75A2]\n\t(No symbol) [0x00007FF641DDE883]\n\t(No symbol) [0x00007FF641DB3691]\n\t(No symbol) [0x00007FF641DB48D4]\n\tGetHandleVerifier [0x00007FF6422BB992+3610402]\n\tGetHandleVerifier [0x00007FF642311860+3962352]\n\tGetHandleVerifier [0x00007FF642309D4F+3930847]\n\tGetHandleVerifier [0x00007FF641FF3646+693206]\n\t(No symbol) [0x00007FF641ED1628]\n\t(No symbol) [0x00007FF641ECD934]\n\t(No symbol) [0x00007FF641ECDA62]\n\t(No symbol) [0x00007FF641EBE113]\n\tBaseThreadInitThunk [0x00007FFB3558257D+29]\n\tRtlUserThreadStart [0x00007FFB3642AA68+40]\n",
     "output_type": "error",
     "traceback": [
      "\u001b[1;31m---------------------------------------------------------------------------\u001b[0m",
      "\u001b[1;31mNoSuchElementException\u001b[0m                    Traceback (most recent call last)",
      "\u001b[1;32mc:\\Users\\96171\\Desktop\\SE_Factory\\DataAnalysis_Jupiter\\tester.ipynb Cell 4\u001b[0m line \u001b[0;36m2\n\u001b[0;32m     <a href='vscode-notebook-cell:/c%3A/Users/96171/Desktop/SE_Factory/DataAnalysis_Jupiter/tester.ipynb#X21sZmlsZQ%3D%3D?line=18'>19</a>\u001b[0m driver\u001b[39m.\u001b[39mimplicitly_wait(\u001b[39m10\u001b[39m)\n\u001b[0;32m     <a href='vscode-notebook-cell:/c%3A/Users/96171/Desktop/SE_Factory/DataAnalysis_Jupiter/tester.ipynb#X21sZmlsZQ%3D%3D?line=20'>21</a>\u001b[0m \u001b[39m# Find the table containing the football standings\u001b[39;00m\n\u001b[1;32m---> <a href='vscode-notebook-cell:/c%3A/Users/96171/Desktop/SE_Factory/DataAnalysis_Jupiter/tester.ipynb#X21sZmlsZQ%3D%3D?line=21'>22</a>\u001b[0m table \u001b[39m=\u001b[39m driver\u001b[39m.\u001b[39;49mfind_element(By\u001b[39m.\u001b[39;49mCLASS_NAME, \u001b[39m'\u001b[39;49m\u001b[39mTable2__table__wrapper\u001b[39;49m\u001b[39m'\u001b[39;49m)\n\u001b[0;32m     <a href='vscode-notebook-cell:/c%3A/Users/96171/Desktop/SE_Factory/DataAnalysis_Jupiter/tester.ipynb#X21sZmlsZQ%3D%3D?line=23'>24</a>\u001b[0m \u001b[39m# Extract and print the header row\u001b[39;00m\n\u001b[0;32m     <a href='vscode-notebook-cell:/c%3A/Users/96171/Desktop/SE_Factory/DataAnalysis_Jupiter/tester.ipynb#X21sZmlsZQ%3D%3D?line=24'>25</a>\u001b[0m header_row \u001b[39m=\u001b[39m table\u001b[39m.\u001b[39mfind_element(By\u001b[39m.\u001b[39mTAG_NAME, \u001b[39m'\u001b[39m\u001b[39mthead\u001b[39m\u001b[39m'\u001b[39m)\n",
      "File \u001b[1;32mc:\\Users\\96171\\AppData\\Local\\Programs\\Python\\Python311\\Lib\\site-packages\\selenium\\webdriver\\remote\\webdriver.py:738\u001b[0m, in \u001b[0;36mWebDriver.find_element\u001b[1;34m(self, by, value)\u001b[0m\n\u001b[0;32m    735\u001b[0m     by \u001b[39m=\u001b[39m By\u001b[39m.\u001b[39mCSS_SELECTOR\n\u001b[0;32m    736\u001b[0m     value \u001b[39m=\u001b[39m \u001b[39mf\u001b[39m\u001b[39m'\u001b[39m\u001b[39m[name=\u001b[39m\u001b[39m\"\u001b[39m\u001b[39m{\u001b[39;00mvalue\u001b[39m}\u001b[39;00m\u001b[39m\"\u001b[39m\u001b[39m]\u001b[39m\u001b[39m'\u001b[39m\n\u001b[1;32m--> 738\u001b[0m \u001b[39mreturn\u001b[39;00m \u001b[39mself\u001b[39;49m\u001b[39m.\u001b[39;49mexecute(Command\u001b[39m.\u001b[39;49mFIND_ELEMENT, {\u001b[39m\"\u001b[39;49m\u001b[39musing\u001b[39;49m\u001b[39m\"\u001b[39;49m: by, \u001b[39m\"\u001b[39;49m\u001b[39mvalue\u001b[39;49m\u001b[39m\"\u001b[39;49m: value})[\u001b[39m\"\u001b[39m\u001b[39mvalue\u001b[39m\u001b[39m\"\u001b[39m]\n",
      "File \u001b[1;32mc:\\Users\\96171\\AppData\\Local\\Programs\\Python\\Python311\\Lib\\site-packages\\selenium\\webdriver\\remote\\webdriver.py:344\u001b[0m, in \u001b[0;36mWebDriver.execute\u001b[1;34m(self, driver_command, params)\u001b[0m\n\u001b[0;32m    342\u001b[0m response \u001b[39m=\u001b[39m \u001b[39mself\u001b[39m\u001b[39m.\u001b[39mcommand_executor\u001b[39m.\u001b[39mexecute(driver_command, params)\n\u001b[0;32m    343\u001b[0m \u001b[39mif\u001b[39;00m response:\n\u001b[1;32m--> 344\u001b[0m     \u001b[39mself\u001b[39;49m\u001b[39m.\u001b[39;49merror_handler\u001b[39m.\u001b[39;49mcheck_response(response)\n\u001b[0;32m    345\u001b[0m     response[\u001b[39m\"\u001b[39m\u001b[39mvalue\u001b[39m\u001b[39m\"\u001b[39m] \u001b[39m=\u001b[39m \u001b[39mself\u001b[39m\u001b[39m.\u001b[39m_unwrap_value(response\u001b[39m.\u001b[39mget(\u001b[39m\"\u001b[39m\u001b[39mvalue\u001b[39m\u001b[39m\"\u001b[39m, \u001b[39mNone\u001b[39;00m))\n\u001b[0;32m    346\u001b[0m     \u001b[39mreturn\u001b[39;00m response\n",
      "File \u001b[1;32mc:\\Users\\96171\\AppData\\Local\\Programs\\Python\\Python311\\Lib\\site-packages\\selenium\\webdriver\\remote\\errorhandler.py:229\u001b[0m, in \u001b[0;36mErrorHandler.check_response\u001b[1;34m(self, response)\u001b[0m\n\u001b[0;32m    227\u001b[0m         alert_text \u001b[39m=\u001b[39m value[\u001b[39m\"\u001b[39m\u001b[39malert\u001b[39m\u001b[39m\"\u001b[39m]\u001b[39m.\u001b[39mget(\u001b[39m\"\u001b[39m\u001b[39mtext\u001b[39m\u001b[39m\"\u001b[39m)\n\u001b[0;32m    228\u001b[0m     \u001b[39mraise\u001b[39;00m exception_class(message, screen, stacktrace, alert_text)  \u001b[39m# type: ignore[call-arg]  # mypy is not smart enough here\u001b[39;00m\n\u001b[1;32m--> 229\u001b[0m \u001b[39mraise\u001b[39;00m exception_class(message, screen, stacktrace)\n",
      "\u001b[1;31mNoSuchElementException\u001b[0m: Message: no such element: Unable to locate element: {\"method\":\"css selector\",\"selector\":\".Table2__table__wrapper\"}\n  (Session info: headless chrome=117.0.5938.132); For documentation on this error, please visit: https://www.selenium.dev/documentation/webdriver/troubleshooting/errors#no-such-element-exception\nStacktrace:\n\tGetHandleVerifier [0x00007FF641F57892+54818]\n\t(No symbol) [0x00007FF641EC6AC2]\n\t(No symbol) [0x00007FF641D7DA3B]\n\t(No symbol) [0x00007FF641DBE4FC]\n\t(No symbol) [0x00007FF641DBE67C]\n\t(No symbol) [0x00007FF641DF9627]\n\t(No symbol) [0x00007FF641DDEAEF]\n\t(No symbol) [0x00007FF641DF75A2]\n\t(No symbol) [0x00007FF641DDE883]\n\t(No symbol) [0x00007FF641DB3691]\n\t(No symbol) [0x00007FF641DB48D4]\n\tGetHandleVerifier [0x00007FF6422BB992+3610402]\n\tGetHandleVerifier [0x00007FF642311860+3962352]\n\tGetHandleVerifier [0x00007FF642309D4F+3930847]\n\tGetHandleVerifier [0x00007FF641FF3646+693206]\n\t(No symbol) [0x00007FF641ED1628]\n\t(No symbol) [0x00007FF641ECD934]\n\t(No symbol) [0x00007FF641ECDA62]\n\t(No symbol) [0x00007FF641EBE113]\n\tBaseThreadInitThunk [0x00007FFB3558257D+29]\n\tRtlUserThreadStart [0x00007FFB3642AA68+40]\n"
     ]
    }
   ],
   "source": [
    "from selenium import webdriver\n",
    "from selenium.webdriver.chrome.service import Service as ChromeService\n",
    "from selenium.webdriver.common.by import By\n",
    "from selenium.webdriver.chrome.options import Options\n",
    "\n",
    "match_details=[]\n",
    "driver = webdriver.Chrome()\n",
    "options=Options()\n",
    "options.add_argument('--headless')\n",
    "driver = webdriver.Chrome(options=options)\n",
    "\n",
    "# The URL of the page to scrape\n",
    "url = \"https://www.espn.co.uk/football/table/_/league/eng.1\"\n",
    "\n",
    "# Navigate to the URL\n",
    "driver.get(url)\n",
    "\n",
    "# Wait for the table to load (you may need to adjust the waiting time)\n",
    "driver.implicitly_wait(10)\n",
    "\n",
    "# Find the table containing the football standings\n",
    "table = driver.find_element(By.CLASS_NAME, 'Table2__table__wrapper')\n",
    "\n",
    "# Extract and print the header row\n",
    "header_row = table.find_element(By.TAG_NAME, 'thead')\n",
    "headers = [header.text.strip() for header in header_row.find_elements(By.TAG_NAME, 'th')]\n",
    "print(\"\\t\".join(headers))\n",
    "\n",
    "# Extract and print the data rows\n",
    "data_rows = table.find_element(By.TAG_NAME, 'tbody').find_elements(By.TAG_NAME, 'tr')\n",
    "for row in data_rows:\n",
    "    data = [cell.text.strip() for cell in row.find_elements(By.TAG_NAME, 'td')]\n",
    "    print(\"\\t\".join(data))\n",
    "\n",
    "# Close the browser\n",
    "driver.quit()\n"
   ]
  }
 ],
 "metadata": {
  "kernelspec": {
   "display_name": "Python 3",
   "language": "python",
   "name": "python3"
  },
  "language_info": {
   "codemirror_mode": {
    "name": "ipython",
    "version": 3
   },
   "file_extension": ".py",
   "mimetype": "text/x-python",
   "name": "python",
   "nbconvert_exporter": "python",
   "pygments_lexer": "ipython3",
   "version": "3.11.3"
  },
  "orig_nbformat": 4
 },
 "nbformat": 4,
 "nbformat_minor": 2
}
