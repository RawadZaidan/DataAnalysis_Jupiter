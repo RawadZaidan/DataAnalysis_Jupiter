{
 "cells": [
  {
   "cell_type": "code",
   "execution_count": 1,
   "metadata": {},
   "outputs": [
    {
     "name": "stdout",
     "output_type": "stream",
     "text": [
      "Downloaded Players.csv to batata\n",
      "Downloaded Player_Valuations.csv to batata\n",
      "Downloaded Games.csv to batata\n",
      "Downloaded Games_Events.csv to batata\n",
      "Downloaded Competitions.csv to batata\n",
      "Failed to download file Clubs: 429 Client Error: Too Many Requests for url: https://drive.google.com/uc?id=1SD96aMVyrScGeUTSsCyd58mT9fjS5eFW&export=download\n",
      "Downloaded Club_Games.csv to batata\n",
      "Downloaded Appearances.csv to batata\n"
     ]
    }
   ],
   "source": [
    "from misc_handler import download_files\n",
    "\n",
    "download_files(\"batata\")"
   ]
  }
 ],
 "metadata": {
  "kernelspec": {
   "display_name": "Python 3",
   "language": "python",
   "name": "python3"
  },
  "language_info": {
   "codemirror_mode": {
    "name": "ipython",
    "version": 3
   },
   "file_extension": ".py",
   "mimetype": "text/x-python",
   "name": "python",
   "nbconvert_exporter": "python",
   "pygments_lexer": "ipython3",
   "version": "3.11.3"
  },
  "orig_nbformat": 4
 },
 "nbformat": 4,
 "nbformat_minor": 2
}
