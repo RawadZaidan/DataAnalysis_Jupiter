{
 "cells": [
  {
   "cell_type": "code",
   "execution_count": null,
   "metadata": {},
   "outputs": [],
   "source": [
    "from database_handler import create_connection, return_data_as_df\n",
    "import pandas as pd\n",
    "from lookups import InputTypes\n",
    "def standings_points_rolling(db_session):\n",
    "\n",
    "    dict_teams_season = {}\n",
    "    for season in range(2018,2024):\n",
    "        query = \"\"\"WITH wind AS (\n",
    "        SELECT\n",
    "            CASE\n",
    "            WHEN home_team_goals > away_team_goals THEN home_team_name\n",
    "            WHEN home_team_goals < away_team_goals THEN away_team_name\n",
    "            ELSE 'Draw'\n",
    "            END AS winner,\n",
    "            *\n",
    "        FROM premier_league.fact_game_results\n",
    "        ORDER BY match_id\n",
    "        ),\n",
    "        new_wind AS (\n",
    "        SELECT\n",
    "            CASE\n",
    "            WHEN SUBSTRING(CAST(match_id AS TEXT), 0, 3) = '38' THEN 2018\n",
    "            WHEN SUBSTRING(CAST(match_id AS TEXT), 0, 3) = '46' THEN 2019\n",
    "            WHEN SUBSTRING(CAST(match_id AS TEXT), 1, 2) IN ('58', '59') THEN 2020\n",
    "            WHEN SUBSTRING(CAST(match_id AS TEXT), 0, 3) = '66' THEN 2021\n",
    "            WHEN SUBSTRING(CAST(match_id AS TEXT), 0, 3) IN ('74', '75') THEN 2022\n",
    "            WHEN SUBSTRING(CAST(match_id AS TEXT), 0, 3) = '93' THEN 2023\n",
    "            END AS season,\n",
    "            *\n",
    "        FROM wind)\n",
    "\n",
    "        SELECT * FROM new_wind\n",
    "        \"\"\"\n",
    "        concatenated_df = None\n",
    "        df = return_data_as_df(file_executor=query, input_type=InputTypes.SQL, db_session=db_session)\n",
    "        df = df[df['season'] == season] #changes in loop\n",
    "        list_of_teams = df['home_team_name'].unique().tolist()\n",
    "        dict_teams_season[season] = list_of_teams\n",
    "        for team in list_of_teams:\n",
    "            query = f\"\"\"WITH wind AS (\n",
    "                    SELECT\n",
    "                        CASE\n",
    "                        WHEN home_team_goals > away_team_goals THEN home_team_name\n",
    "                        WHEN home_team_goals < away_team_goals THEN away_team_name\n",
    "                        ELSE 'Draw'\n",
    "                        END AS winner,\n",
    "                        *\n",
    "                    FROM premier_league.fact_game_results\n",
    "                    ORDER BY match_id\n",
    "                    ),\n",
    "                    new_wind AS (\n",
    "                    SELECT\n",
    "                        CASE\n",
    "                        WHEN SUBSTRING(CAST(match_id AS TEXT), 0, 3) = '38' THEN 2018\n",
    "                        WHEN SUBSTRING(CAST(match_id AS TEXT), 0, 3) = '46' THEN 2019\n",
    "                        WHEN SUBSTRING(CAST(match_id AS TEXT), 1, 2) IN ('58', '59') THEN 2020\n",
    "                        WHEN SUBSTRING(CAST(match_id AS TEXT), 0, 3) = '66' THEN 2021\n",
    "                        WHEN SUBSTRING(CAST(match_id AS TEXT), 0, 3) IN ('74', '75') THEN 2022\n",
    "                        WHEN SUBSTRING(CAST(match_id AS TEXT), 0, 3) = '93' THEN 2023\n",
    "                        END AS season,\n",
    "                        *\n",
    "                    FROM wind\n",
    "                    WHERE home_team_name = '{team}' OR away_team_name = '{team}'\n",
    "                    ),\n",
    "                    points_selected AS (\n",
    "                    SELECT\n",
    "                        CASE\n",
    "                        WHEN winner = '{team}' THEN 3\n",
    "                        WHEN winner = 'Draw' THEN 1\n",
    "                        ELSE 0\n",
    "                        END AS points_selected_team,\n",
    "                        *\n",
    "                    FROM new_wind\n",
    "                    )\n",
    "\n",
    "                    SELECT '{team}' AS Selected_team,\n",
    "                    SUM(points_selected_team) OVER (PARTITION BY season ORDER BY match_id) AS running_points_total,\n",
    "                    *\n",
    "                    FROM points_selected;\"\"\"\n",
    "            \n",
    "            df = return_data_as_df(file_executor=query, input_type=InputTypes.SQL, db_session=db_session)\n",
    "            concatenated_df = pd.concat([concatenated_df,df], axis=0, ignore_index=True)\n",
    "        return concatenated_df"
   ]
  },
  {
   "cell_type": "code",
   "execution_count": null,
   "metadata": {},
   "outputs": [],
   "source": [
    "db_session = create_connection()\n",
    "standings_points_rolling(db_session)"
   ]
  },
  {
   "cell_type": "code",
   "execution_count": 1,
   "metadata": {},
   "outputs": [
    {
     "name": "stderr",
     "output_type": "stream",
     "text": [
      "c:\\Users\\96171\\Desktop\\SE_Factory\\DataAnalysis_Jupiter\\database_handler.py:51: UserWarning: pandas only supports SQLAlchemy connectable (engine/connection) or database string URI or sqlite3 DBAPI2 connection. Other DBAPI2 objects are not tested. Please consider using SQLAlchemy.\n",
      "  return_dataframe = pd.read_sql_query(con= db_session, sql= file_executor)\n"
     ]
    },
    {
     "name": "stdout",
     "output_type": "stream",
     "text": [
      "Done creating stg table of: rolling_points_standing\n",
      "Inserting into: rolling_points_standing\n"
     ]
    }
   ],
   "source": [
    "from database_handler import create_connection\n",
    "from prehook import insert_points_standings_into_fact\n",
    "\n",
    "db_session = create_connection()\n",
    "insert_points_standings_into_fact(db_session)"
   ]
  }
 ],
 "metadata": {
  "kernelspec": {
   "display_name": "Python 3",
   "language": "python",
   "name": "python3"
  },
  "language_info": {
   "codemirror_mode": {
    "name": "ipython",
    "version": 3
   },
   "file_extension": ".py",
   "mimetype": "text/x-python",
   "name": "python",
   "nbconvert_exporter": "python",
   "pygments_lexer": "ipython3",
   "version": "3.11.3"
  },
  "orig_nbformat": 4
 },
 "nbformat": 4,
 "nbformat_minor": 2
}
