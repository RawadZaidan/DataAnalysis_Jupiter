{
 "cells": [
  {
   "cell_type": "code",
   "execution_count": 1,
   "metadata": {},
   "outputs": [],
   "source": [
    "import database_handler\n",
    "from lookups import InputTypes\n",
    "from pandas_handler import get_csv_file_names_into_list\n",
    "import pandas as pd"
   ]
  },
  {
   "cell_type": "code",
   "execution_count": 2,
   "metadata": {},
   "outputs": [],
   "source": [
    "db_session = database_handler.create_connection()"
   ]
  },
  {
   "cell_type": "code",
   "execution_count": null,
   "metadata": {},
   "outputs": [],
   "source": [
    "database_handler.return_schema_info(db_session=db_session, schema_name='public')"
   ]
  },
  {
   "cell_type": "code",
   "execution_count": 4,
   "metadata": {},
   "outputs": [
    {
     "data": {
      "text/plain": [
       "['appearances.csv',\n",
       " 'clubs.csv',\n",
       " 'club_games.csv',\n",
       " 'competitions.csv',\n",
       " 'games.csv',\n",
       " 'game_events.csv',\n",
       " 'players.csv',\n",
       " 'player_valuations.csv']"
      ]
     },
     "execution_count": 4,
     "metadata": {},
     "output_type": "execute_result"
    }
   ],
   "source": [
    "location = r\"C:\\Users\\96171\\Desktop\\Soccer\"\n",
    "get_csv_file_names_into_list(location)"
   ]
  },
  {
   "cell_type": "code",
   "execution_count": 7,
   "metadata": {},
   "outputs": [
    {
     "data": {
      "text/plain": [
       "'aC:\\\\Users\\\\96171\\\\Desktop\\\\SoccerpC:\\\\Users\\\\96171\\\\Desktop\\\\SoccerpC:\\\\Users\\\\96171\\\\Desktop\\\\SoccereC:\\\\Users\\\\96171\\\\Desktop\\\\SocceraC:\\\\Users\\\\96171\\\\Desktop\\\\SoccerrC:\\\\Users\\\\96171\\\\Desktop\\\\SocceraC:\\\\Users\\\\96171\\\\Desktop\\\\SoccernC:\\\\Users\\\\96171\\\\Desktop\\\\SoccercC:\\\\Users\\\\96171\\\\Desktop\\\\SoccereC:\\\\Users\\\\96171\\\\Desktop\\\\SoccersC:\\\\Users\\\\96171\\\\Desktop\\\\Soccer.C:\\\\Users\\\\96171\\\\Desktop\\\\SoccercC:\\\\Users\\\\96171\\\\Desktop\\\\SoccersC:\\\\Users\\\\96171\\\\Desktop\\\\Soccerv'"
      ]
     },
     "execution_count": 7,
     "metadata": {},
     "output_type": "execute_result"
    }
   ],
   "source": [
    "import os\n",
    "directory = r\"C:\\Users\\96171\\Desktop\\Soccer\"\n",
    "csvfiles = [csvfile for csvfile in os.listdir(directory) if csvfile.endswith('.csv')]\n"
   ]
  },
  {
   "cell_type": "code",
   "execution_count": 5,
   "metadata": {},
   "outputs": [
    {
     "name": "stdout",
     "output_type": "stream",
     "text": [
      "Error returning CSV=[Errno 13] Permission denied: 'C:\\\\Users\\\\96171\\\\Desktop\\\\Soccer'\n"
     ]
    }
   ],
   "source": [
    "database_handler.return_data_as_df(file_executor=directory,input_type= InputTypes.CSV,db_session=db_session )"
   ]
  },
  {
   "cell_type": "code",
   "execution_count": null,
   "metadata": {},
   "outputs": [],
   "source": [
    "import glob\n",
    "\n",
    "txtfiles = []\n",
    "for file in glob.glob(\"*\"):\n",
    "    txtfiles.append(file)\n",
    "txtfiles"
   ]
  },
  {
   "cell_type": "code",
   "execution_count": null,
   "metadata": {},
   "outputs": [],
   "source": [
    "import glob\n",
    "import os\n",
    "\n",
    "# Specify the predefined directory path\n",
    "directory_path =r\"C:\\Users\\96171\\Desktop\"\n",
    "\n",
    "# Use os.path.join to create the full path\n",
    "search_path = os.path.join(directory_path, '*.txt')\n",
    "\n",
    "txtfiles = []\n",
    "for file in glob.glob(search_path):\n",
    "    txtfiles.append(file)\n",
    "txtfiles"
   ]
  },
  {
   "cell_type": "code",
   "execution_count": null,
   "metadata": {},
   "outputs": [],
   "source": []
  },
  {
   "cell_type": "code",
   "execution_count": null,
   "metadata": {},
   "outputs": [],
   "source": [
    "query_df = database_handler.execute_query(db_session=db_session, query=\"SELECT * FROM public.film\")\n",
    "query_df"
   ]
  },
  {
   "cell_type": "code",
   "execution_count": null,
   "metadata": {},
   "outputs": [],
   "source": [
    "query_df.replace()"
   ]
  },
  {
   "cell_type": "code",
   "execution_count": null,
   "metadata": {},
   "outputs": [],
   "source": [
    "query_df[\"Batata\"] = query_df[\"\"]"
   ]
  },
  {
   "cell_type": "code",
   "execution_count": null,
   "metadata": {},
   "outputs": [],
   "source": [
    "if db_session:\n",
    "    query_df = database_handler.return_data_as_df(db_session= db_session, file_executor= \"SELECT * FROM public.rental\", input_type= InputTypes.SQL)\n",
    "query_df"
   ]
  },
  {
   "cell_type": "code",
   "execution_count": null,
   "metadata": {},
   "outputs": [],
   "source": [
    "type(InputTypes.CSV)"
   ]
  },
  {
   "cell_type": "code",
   "execution_count": null,
   "metadata": {},
   "outputs": [],
   "source": [
    "query_df.head()"
   ]
  }
 ],
 "metadata": {
  "kernelspec": {
   "display_name": "sefactory_env",
   "language": "python",
   "name": "python3"
  },
  "language_info": {
   "codemirror_mode": {
    "name": "ipython",
    "version": 3
   },
   "file_extension": ".py",
   "mimetype": "text/x-python",
   "name": "python",
   "nbconvert_exporter": "python",
   "pygments_lexer": "ipython3",
   "version": "3.11.3"
  },
  "orig_nbformat": 4
 },
 "nbformat": 4,
 "nbformat_minor": 2
}
